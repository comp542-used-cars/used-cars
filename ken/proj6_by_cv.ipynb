{
 "cells": [
  {
   "cell_type": "code",
   "execution_count": 1,
   "id": "809f5503",
   "metadata": {
    "scrolled": true
   },
   "outputs": [],
   "source": [
    "import pandas as pd\n",
    "\n",
    "import numpy as np\n",
    "\n",
    "import matplotlib\n",
    "from matplotlib import pyplot as plt\n",
    "%matplotlib inline\n",
    "\n",
    "import random\n",
    "\n",
    "import scipy.stats as sp\n",
    "from scipy.stats import chi2_contingency\n",
    "from scipy.stats import chi2\n",
    "# pd.set_option('display.max_columns',None)\n",
    "# pd.set_option('display.max_rows',None)\n",
    "pd.set_option('display.max_columns',25)\n",
    "pd.set_option('display.max_rows',25)\n",
    "\n",
    "import seaborn as sns\n",
    "\n",
    "from IPython.core.interactiveshell import InteractiveShell\n",
    "InteractiveShell.ast_node_interactivity = \"all\"\n",
    "\n",
    "# Pre-Processed Data-Set\n",
    "df = pd.read_csv('vehicles_num.csv', low_memory=False)"
   ]
  },
  {
   "cell_type": "code",
   "execution_count": 2,
   "id": "4c9d34d0",
   "metadata": {},
   "outputs": [],
   "source": [
    "###################################################################################################"
   ]
  },
  {
   "cell_type": "code",
   "execution_count": 3,
   "id": "cdeb560b",
   "metadata": {},
   "outputs": [],
   "source": [
    "# For testing without label encoded features\n",
    "\n",
    "# No labelEncoded\n",
    "# features_to_drop = ['region_labelEncoded','region_url_labelEncoded','manufacturer_labelEncoded','model_labelEncoded','state_labelEncoded']\n",
    "# df = df.drop(features_to_drop,axis=1)\n",
    "\n",
    "# No OneHot \n",
    "# features_to_drop = ['oneHot_fuel_diesel','oneHot_fuel_electric','oneHot_fuel_gas','oneHot_fuel_hybrid','oneHot_fuel_other','oneHot_title_status_clean','oneHot_title_status_lien','oneHot_title_status_missing','oneHot_title_status_parts only','oneHot_title_status_rebuilt','oneHot_title_status_rebuilt','oneHot_title_status_salvage','oneHot_transmission_automatic','oneHot_transmission_manual','oneHot_transmission_other']\n",
    "# df = df.drop(features_to_drop,axis=1)\n",
    "\n",
    "# No lat and long\n",
    "# Linear Regression and Polynomial Regression perform well without lat and long\n",
    "# features_to_drop = ['lat','long'] \n",
    "# df = df.drop(features_to_drop,axis=1)\n",
    "\n",
    "# No labelEncoded, oneHot or lat and long\n",
    "# features_to_drop = ['region_labelEncoded','region_url_labelEncoded','manufacturer_labelEncoded','model_labelEncoded','state_labelEncoded','oneHot_fuel_diesel','oneHot_fuel_electric','oneHot_fuel_gas','oneHot_fuel_hybrid','oneHot_fuel_other','oneHot_title_status_clean','oneHot_title_status_lien','oneHot_title_status_missing','oneHot_title_status_parts only','oneHot_title_status_rebuilt','oneHot_title_status_rebuilt','oneHot_title_status_salvage','oneHot_transmission_automatic','oneHot_transmission_manual','oneHot_transmission_other','lat','long']\n",
    "# df = df.drop(features_to_drop,axis=1)"
   ]
  },
  {
   "cell_type": "code",
   "execution_count": 4,
   "id": "7a65e686",
   "metadata": {
    "scrolled": true
   },
   "outputs": [],
   "source": [
    "###################################################################################################"
   ]
  },
  {
   "cell_type": "code",
   "execution_count": 5,
   "id": "517aea6e",
   "metadata": {
    "scrolled": false
   },
   "outputs": [],
   "source": [
    "# df.info()\n",
    "# df.head(3)\n",
    "\n",
    "columns_to_use = df.columns[1:25]\n",
    "data_x = df[columns_to_use]\n",
    "# data_x\n",
    "\n",
    "data_y = df['price']\n",
    "# data_y"
   ]
  },
  {
   "cell_type": "code",
   "execution_count": 6,
   "id": "7591f42c",
   "metadata": {},
   "outputs": [],
   "source": [
    "###################################################################################################"
   ]
  },
  {
   "cell_type": "code",
   "execution_count": 7,
   "id": "1a524593",
   "metadata": {},
   "outputs": [],
   "source": [
    "# Split Data by Cross Validation Method\n",
    "from sklearn.model_selection import KFold\n",
    "from sklearn.model_selection import cross_val_score\n",
    "\n",
    "kfold = KFold(n_splits=10, shuffle=True)"
   ]
  },
  {
   "cell_type": "code",
   "execution_count": 8,
   "id": "9d2aff24",
   "metadata": {},
   "outputs": [],
   "source": [
    "###################################################################################################"
   ]
  },
  {
   "cell_type": "code",
   "execution_count": 9,
   "id": "f249f0e2",
   "metadata": {
    "scrolled": true
   },
   "outputs": [
    {
     "name": "stdout",
     "output_type": "stream",
     "text": [
      "Linear Regression Model Accuracy: 51.79%\n"
     ]
    }
   ],
   "source": [
    "# Modeling using Linear Regression\n",
    "from sklearn.linear_model import LinearRegression\n",
    "lin_reg_model = LinearRegression()\n",
    "\n",
    "lin_reg_model_results = cross_val_score(lin_reg_model, data_x, data_y, cv=kfold)\n",
    "\n",
    "print(\"Linear Regression Model Accuracy: %.2f%%\" % (lin_reg_model_results.mean()*100.0) )"
   ]
  },
  {
   "cell_type": "code",
   "execution_count": 10,
   "id": "1f70e834",
   "metadata": {},
   "outputs": [
    {
     "name": "stdout",
     "output_type": "stream",
     "text": [
      "Polynomial Regression Model Accuracy: -49341207285943992320.00%\n"
     ]
    }
   ],
   "source": [
    "from sklearn.preprocessing import PolynomialFeatures\n",
    "poly_features = PolynomialFeatures(degree=2)\n",
    "x_train_poly = poly_features.fit_transform(data_x)\n",
    "\n",
    "from sklearn.linear_model import LinearRegression\n",
    "poly_reg_model = LinearRegression()\n",
    "\n",
    "poly_reg_model_results = cross_val_score(poly_reg_model, x_train_poly, data_y, cv=kfold)\n",
    "\n",
    "print(\"Polynomial Regression Model Accuracy: %.2f%%\" % (poly_reg_model_results.mean()*100.0) )"
   ]
  },
  {
   "cell_type": "code",
   "execution_count": 11,
   "id": "85177359",
   "metadata": {},
   "outputs": [],
   "source": [
    "###################################################################################################"
   ]
  },
  {
   "cell_type": "code",
   "execution_count": 12,
   "id": "a3dc00d9",
   "metadata": {},
   "outputs": [],
   "source": [
    "# Fold Test Results with ALL FEATURES\n",
    "# 3 Folds\n",
    "    # Linear:      51.79%\n",
    "    # Polynomial: -22558325304842813440.00%\n",
    "# 5 Folds\n",
    "    # Linear:      51.79%\n",
    "    # Polynomial: -107099740649694904320.00%\n",
    "# 7 Folds\n",
    "    # Linear:      51.79%\n",
    "    # Polynomial: -43921378280711168000.00%\n",
    "# 10 Folds\n",
    "    # Linear:      51.79%\n",
    "    # Polynomial: -49341207285943992320.00%"
   ]
  },
  {
   "cell_type": "code",
   "execution_count": 13,
   "id": "207b86a6",
   "metadata": {},
   "outputs": [],
   "source": [
    "###################################################################################################"
   ]
  }
 ],
 "metadata": {
  "kernelspec": {
   "display_name": "Python 3 (ipykernel)",
   "language": "python",
   "name": "python3"
  },
  "language_info": {
   "codemirror_mode": {
    "name": "ipython",
    "version": 3
   },
   "file_extension": ".py",
   "mimetype": "text/x-python",
   "name": "python",
   "nbconvert_exporter": "python",
   "pygments_lexer": "ipython3",
   "version": "3.10.7"
  }
 },
 "nbformat": 4,
 "nbformat_minor": 5
}
