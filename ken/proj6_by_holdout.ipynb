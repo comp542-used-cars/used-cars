{
 "cells": [
  {
   "cell_type": "code",
   "execution_count": 1,
   "id": "809f5503",
   "metadata": {
    "scrolled": true
   },
   "outputs": [],
   "source": [
    "import pandas as pd\n",
    "\n",
    "import numpy as np\n",
    "\n",
    "import matplotlib\n",
    "from matplotlib import pyplot as plt\n",
    "%matplotlib inline\n",
    "\n",
    "import random\n",
    "\n",
    "import scipy.stats as sp\n",
    "# from scipy.stats import chi2_contingency\n",
    "# from scipy.stats import chi2\n",
    "# pd.set_option('display.max_columns',None)\n",
    "# pd.set_option('display.max_rows',None)\n",
    "pd.set_option('display.max_columns',25)\n",
    "pd.set_option('display.max_rows',25)\n",
    "\n",
    "import seaborn as sns\n",
    "\n",
    "from IPython.core.interactiveshell import InteractiveShell\n",
    "InteractiveShell.ast_node_interactivity = \"all\"\n",
    "\n",
    "# Pre-Processed Data-Set\n",
    "df = pd.read_csv('vehicles_num.csv', low_memory=False)"
   ]
  },
  {
   "cell_type": "code",
   "execution_count": 2,
   "id": "5d667deb",
   "metadata": {},
   "outputs": [],
   "source": [
    "###################################################################################################"
   ]
  },
  {
   "cell_type": "code",
   "execution_count": 3,
   "id": "cdeb560b",
   "metadata": {},
   "outputs": [],
   "source": [
    "# For testing without label encoded features\n",
    "\n",
    "# No labelEncoded\n",
    "# features_to_drop = ['region_labelEncoded','region_url_labelEncoded','manufacturer_labelEncoded','model_labelEncoded','state_labelEncoded']\n",
    "# df = df.drop(features_to_drop,axis=1)\n",
    "\n",
    "# No OneHot \n",
    "# features_to_drop = ['oneHot_fuel_diesel','oneHot_fuel_electric','oneHot_fuel_gas','oneHot_fuel_hybrid','oneHot_fuel_other','oneHot_title_status_clean','oneHot_title_status_lien','oneHot_title_status_missing','oneHot_title_status_parts only','oneHot_title_status_rebuilt','oneHot_title_status_rebuilt','oneHot_title_status_salvage','oneHot_transmission_automatic','oneHot_transmission_manual','oneHot_transmission_other']\n",
    "# df = df.drop(features_to_drop,axis=1)\n",
    "\n",
    "# No lat and long\n",
    "# Linear Regression and Polynomial Regression perform well without lat and long\n",
    "# features_to_drop = ['lat','long'] \n",
    "# df = df.drop(features_to_drop,axis=1)\n",
    "\n",
    "# No labelEncoded, oneHot or lat and long\n",
    "# features_to_drop = ['region_labelEncoded','region_url_labelEncoded','manufacturer_labelEncoded','model_labelEncoded','state_labelEncoded','oneHot_fuel_diesel','oneHot_fuel_electric','oneHot_fuel_gas','oneHot_fuel_hybrid','oneHot_fuel_other','oneHot_title_status_clean','oneHot_title_status_lien','oneHot_title_status_missing','oneHot_title_status_parts only','oneHot_title_status_rebuilt','oneHot_title_status_rebuilt','oneHot_title_status_salvage','oneHot_transmission_automatic','oneHot_transmission_manual','oneHot_transmission_other','lat','long']\n",
    "# df = df.drop(features_to_drop,axis=1)"
   ]
  },
  {
   "cell_type": "code",
   "execution_count": 4,
   "id": "7a65e686",
   "metadata": {
    "scrolled": true
   },
   "outputs": [],
   "source": [
    "###################################################################################################"
   ]
  },
  {
   "cell_type": "code",
   "execution_count": 5,
   "id": "517aea6e",
   "metadata": {
    "scrolled": false
   },
   "outputs": [
    {
     "name": "stdout",
     "output_type": "stream",
     "text": [
      "<class 'pandas.core.frame.DataFrame'>\n",
      "RangeIndex: 337250 entries, 0 to 337249\n",
      "Data columns (total 25 columns):\n",
      " #   Column                          Non-Null Count   Dtype  \n",
      "---  ------                          --------------   -----  \n",
      " 0   price                           337250 non-null  float64\n",
      " 1   year                            337250 non-null  float64\n",
      " 2   odometer                        337250 non-null  float64\n",
      " 3   lat                             337250 non-null  float64\n",
      " 4   long                            337250 non-null  float64\n",
      " 5   region_labelEncoded             337250 non-null  float64\n",
      " 6   region_url_labelEncoded         337250 non-null  float64\n",
      " 7   manufacturer_labelEncoded       337250 non-null  float64\n",
      " 8   model_labelEncoded              337250 non-null  float64\n",
      " 9   oneHot_fuel_diesel              337250 non-null  float64\n",
      " 10  oneHot_fuel_electric            337250 non-null  float64\n",
      " 11  oneHot_fuel_gas                 337250 non-null  float64\n",
      " 12  oneHot_fuel_hybrid              337250 non-null  float64\n",
      " 13  oneHot_fuel_other               337250 non-null  float64\n",
      " 14  oneHot_title_status_clean       337250 non-null  float64\n",
      " 15  oneHot_title_status_lien        337250 non-null  float64\n",
      " 16  oneHot_title_status_missing     337250 non-null  float64\n",
      " 17  oneHot_title_status_parts only  337250 non-null  float64\n",
      " 18  oneHot_title_status_rebuilt     337250 non-null  float64\n",
      " 19  oneHot_title_status_salvage     337250 non-null  float64\n",
      " 20  oneHot_transmission_automatic   337250 non-null  float64\n",
      " 21  oneHot_transmission_manual      337250 non-null  float64\n",
      " 22  oneHot_transmission_other       337250 non-null  float64\n",
      " 23  state_labelEncoded              337250 non-null  float64\n",
      " 24  posting_date_num                337250 non-null  float64\n",
      "dtypes: float64(25)\n",
      "memory usage: 64.3 MB\n"
     ]
    },
    {
     "data": {
      "text/html": [
       "<div>\n",
       "<style scoped>\n",
       "    .dataframe tbody tr th:only-of-type {\n",
       "        vertical-align: middle;\n",
       "    }\n",
       "\n",
       "    .dataframe tbody tr th {\n",
       "        vertical-align: top;\n",
       "    }\n",
       "\n",
       "    .dataframe thead th {\n",
       "        text-align: right;\n",
       "    }\n",
       "</style>\n",
       "<table border=\"1\" class=\"dataframe\">\n",
       "  <thead>\n",
       "    <tr style=\"text-align: right;\">\n",
       "      <th></th>\n",
       "      <th>price</th>\n",
       "      <th>year</th>\n",
       "      <th>odometer</th>\n",
       "      <th>lat</th>\n",
       "      <th>long</th>\n",
       "      <th>region_labelEncoded</th>\n",
       "      <th>region_url_labelEncoded</th>\n",
       "      <th>manufacturer_labelEncoded</th>\n",
       "      <th>model_labelEncoded</th>\n",
       "      <th>oneHot_fuel_diesel</th>\n",
       "      <th>oneHot_fuel_electric</th>\n",
       "      <th>oneHot_fuel_gas</th>\n",
       "      <th>oneHot_fuel_hybrid</th>\n",
       "      <th>oneHot_fuel_other</th>\n",
       "      <th>oneHot_title_status_clean</th>\n",
       "      <th>oneHot_title_status_lien</th>\n",
       "      <th>oneHot_title_status_missing</th>\n",
       "      <th>oneHot_title_status_parts only</th>\n",
       "      <th>oneHot_title_status_rebuilt</th>\n",
       "      <th>oneHot_title_status_salvage</th>\n",
       "      <th>oneHot_transmission_automatic</th>\n",
       "      <th>oneHot_transmission_manual</th>\n",
       "      <th>oneHot_transmission_other</th>\n",
       "      <th>state_labelEncoded</th>\n",
       "      <th>posting_date_num</th>\n",
       "    </tr>\n",
       "  </thead>\n",
       "  <tbody>\n",
       "    <tr>\n",
       "      <th>0</th>\n",
       "      <td>0.574692</td>\n",
       "      <td>0.703704</td>\n",
       "      <td>0.210235</td>\n",
       "      <td>0.697346</td>\n",
       "      <td>0.227045</td>\n",
       "      <td>0.039702</td>\n",
       "      <td>0.043689</td>\n",
       "      <td>0.325</td>\n",
       "      <td>0.781089</td>\n",
       "      <td>0.0</td>\n",
       "      <td>0.0</td>\n",
       "      <td>1.0</td>\n",
       "      <td>0.0</td>\n",
       "      <td>0.0</td>\n",
       "      <td>1.0</td>\n",
       "      <td>0.0</td>\n",
       "      <td>0.0</td>\n",
       "      <td>0.0</td>\n",
       "      <td>0.0</td>\n",
       "      <td>0.0</td>\n",
       "      <td>0.0</td>\n",
       "      <td>0.0</td>\n",
       "      <td>1.0</td>\n",
       "      <td>0.02</td>\n",
       "      <td>1.0</td>\n",
       "    </tr>\n",
       "    <tr>\n",
       "      <th>1</th>\n",
       "      <td>0.386487</td>\n",
       "      <td>0.555556</td>\n",
       "      <td>0.258530</td>\n",
       "      <td>0.697346</td>\n",
       "      <td>0.227045</td>\n",
       "      <td>0.039702</td>\n",
       "      <td>0.043689</td>\n",
       "      <td>0.175</td>\n",
       "      <td>0.798592</td>\n",
       "      <td>0.0</td>\n",
       "      <td>0.0</td>\n",
       "      <td>1.0</td>\n",
       "      <td>0.0</td>\n",
       "      <td>0.0</td>\n",
       "      <td>1.0</td>\n",
       "      <td>0.0</td>\n",
       "      <td>0.0</td>\n",
       "      <td>0.0</td>\n",
       "      <td>0.0</td>\n",
       "      <td>0.0</td>\n",
       "      <td>0.0</td>\n",
       "      <td>0.0</td>\n",
       "      <td>1.0</td>\n",
       "      <td>0.02</td>\n",
       "      <td>1.0</td>\n",
       "    </tr>\n",
       "    <tr>\n",
       "      <th>2</th>\n",
       "      <td>0.677349</td>\n",
       "      <td>0.925926</td>\n",
       "      <td>0.069542</td>\n",
       "      <td>0.697346</td>\n",
       "      <td>0.227045</td>\n",
       "      <td>0.039702</td>\n",
       "      <td>0.043689</td>\n",
       "      <td>0.175</td>\n",
       "      <td>0.800740</td>\n",
       "      <td>0.0</td>\n",
       "      <td>0.0</td>\n",
       "      <td>1.0</td>\n",
       "      <td>0.0</td>\n",
       "      <td>0.0</td>\n",
       "      <td>1.0</td>\n",
       "      <td>0.0</td>\n",
       "      <td>0.0</td>\n",
       "      <td>0.0</td>\n",
       "      <td>0.0</td>\n",
       "      <td>0.0</td>\n",
       "      <td>0.0</td>\n",
       "      <td>0.0</td>\n",
       "      <td>1.0</td>\n",
       "      <td>0.02</td>\n",
       "      <td>1.0</td>\n",
       "    </tr>\n",
       "  </tbody>\n",
       "</table>\n",
       "</div>"
      ],
      "text/plain": [
       "      price      year  odometer       lat      long  region_labelEncoded  \\\n",
       "0  0.574692  0.703704  0.210235  0.697346  0.227045             0.039702   \n",
       "1  0.386487  0.555556  0.258530  0.697346  0.227045             0.039702   \n",
       "2  0.677349  0.925926  0.069542  0.697346  0.227045             0.039702   \n",
       "\n",
       "   region_url_labelEncoded  manufacturer_labelEncoded  model_labelEncoded  \\\n",
       "0                 0.043689                      0.325            0.781089   \n",
       "1                 0.043689                      0.175            0.798592   \n",
       "2                 0.043689                      0.175            0.800740   \n",
       "\n",
       "   oneHot_fuel_diesel  oneHot_fuel_electric  oneHot_fuel_gas  \\\n",
       "0                 0.0                   0.0              1.0   \n",
       "1                 0.0                   0.0              1.0   \n",
       "2                 0.0                   0.0              1.0   \n",
       "\n",
       "   oneHot_fuel_hybrid  oneHot_fuel_other  oneHot_title_status_clean  \\\n",
       "0                 0.0                0.0                        1.0   \n",
       "1                 0.0                0.0                        1.0   \n",
       "2                 0.0                0.0                        1.0   \n",
       "\n",
       "   oneHot_title_status_lien  oneHot_title_status_missing  \\\n",
       "0                       0.0                          0.0   \n",
       "1                       0.0                          0.0   \n",
       "2                       0.0                          0.0   \n",
       "\n",
       "   oneHot_title_status_parts only  oneHot_title_status_rebuilt  \\\n",
       "0                             0.0                          0.0   \n",
       "1                             0.0                          0.0   \n",
       "2                             0.0                          0.0   \n",
       "\n",
       "   oneHot_title_status_salvage  oneHot_transmission_automatic  \\\n",
       "0                          0.0                            0.0   \n",
       "1                          0.0                            0.0   \n",
       "2                          0.0                            0.0   \n",
       "\n",
       "   oneHot_transmission_manual  oneHot_transmission_other  state_labelEncoded  \\\n",
       "0                         0.0                        1.0                0.02   \n",
       "1                         0.0                        1.0                0.02   \n",
       "2                         0.0                        1.0                0.02   \n",
       "\n",
       "   posting_date_num  \n",
       "0               1.0  \n",
       "1               1.0  \n",
       "2               1.0  "
      ]
     },
     "execution_count": 5,
     "metadata": {},
     "output_type": "execute_result"
    }
   ],
   "source": [
    "# df.info()\n",
    "# df.head(3)\n",
    "\n",
    "columns_to_use = df.columns[1:25]\n",
    "data_x = df[columns_to_use]\n",
    "# data_x\n",
    "\n",
    "data_y = df['price']\n",
    "# data_y"
   ]
  },
  {
   "cell_type": "code",
   "execution_count": 6,
   "id": "7591f42c",
   "metadata": {},
   "outputs": [],
   "source": [
    "###################################################################################################"
   ]
  },
  {
   "cell_type": "code",
   "execution_count": 7,
   "id": "1a524593",
   "metadata": {},
   "outputs": [],
   "source": [
    "# Split Data by Holdout Method\n",
    "from sklearn.model_selection import train_test_split\n",
    "# from sklearn.metrics import r2_score\n",
    "test_size = 0.33\n",
    "x_train, x_test, y_train, y_test = train_test_split(data_x, data_y, test_size = test_size)"
   ]
  },
  {
   "cell_type": "code",
   "execution_count": 8,
   "id": "9d2aff24",
   "metadata": {},
   "outputs": [],
   "source": [
    "###################################################################################################"
   ]
  },
  {
   "cell_type": "code",
   "execution_count": 9,
   "id": "f249f0e2",
   "metadata": {
    "scrolled": true
   },
   "outputs": [
    {
     "data": {
      "text/html": [
       "<style>#sk-container-id-1 {color: black;background-color: white;}#sk-container-id-1 pre{padding: 0;}#sk-container-id-1 div.sk-toggleable {background-color: white;}#sk-container-id-1 label.sk-toggleable__label {cursor: pointer;display: block;width: 100%;margin-bottom: 0;padding: 0.3em;box-sizing: border-box;text-align: center;}#sk-container-id-1 label.sk-toggleable__label-arrow:before {content: \"▸\";float: left;margin-right: 0.25em;color: #696969;}#sk-container-id-1 label.sk-toggleable__label-arrow:hover:before {color: black;}#sk-container-id-1 div.sk-estimator:hover label.sk-toggleable__label-arrow:before {color: black;}#sk-container-id-1 div.sk-toggleable__content {max-height: 0;max-width: 0;overflow: hidden;text-align: left;background-color: #f0f8ff;}#sk-container-id-1 div.sk-toggleable__content pre {margin: 0.2em;color: black;border-radius: 0.25em;background-color: #f0f8ff;}#sk-container-id-1 input.sk-toggleable__control:checked~div.sk-toggleable__content {max-height: 200px;max-width: 100%;overflow: auto;}#sk-container-id-1 input.sk-toggleable__control:checked~label.sk-toggleable__label-arrow:before {content: \"▾\";}#sk-container-id-1 div.sk-estimator input.sk-toggleable__control:checked~label.sk-toggleable__label {background-color: #d4ebff;}#sk-container-id-1 div.sk-label input.sk-toggleable__control:checked~label.sk-toggleable__label {background-color: #d4ebff;}#sk-container-id-1 input.sk-hidden--visually {border: 0;clip: rect(1px 1px 1px 1px);clip: rect(1px, 1px, 1px, 1px);height: 1px;margin: -1px;overflow: hidden;padding: 0;position: absolute;width: 1px;}#sk-container-id-1 div.sk-estimator {font-family: monospace;background-color: #f0f8ff;border: 1px dotted black;border-radius: 0.25em;box-sizing: border-box;margin-bottom: 0.5em;}#sk-container-id-1 div.sk-estimator:hover {background-color: #d4ebff;}#sk-container-id-1 div.sk-parallel-item::after {content: \"\";width: 100%;border-bottom: 1px solid gray;flex-grow: 1;}#sk-container-id-1 div.sk-label:hover label.sk-toggleable__label {background-color: #d4ebff;}#sk-container-id-1 div.sk-serial::before {content: \"\";position: absolute;border-left: 1px solid gray;box-sizing: border-box;top: 0;bottom: 0;left: 50%;z-index: 0;}#sk-container-id-1 div.sk-serial {display: flex;flex-direction: column;align-items: center;background-color: white;padding-right: 0.2em;padding-left: 0.2em;position: relative;}#sk-container-id-1 div.sk-item {position: relative;z-index: 1;}#sk-container-id-1 div.sk-parallel {display: flex;align-items: stretch;justify-content: center;background-color: white;position: relative;}#sk-container-id-1 div.sk-item::before, #sk-container-id-1 div.sk-parallel-item::before {content: \"\";position: absolute;border-left: 1px solid gray;box-sizing: border-box;top: 0;bottom: 0;left: 50%;z-index: -1;}#sk-container-id-1 div.sk-parallel-item {display: flex;flex-direction: column;z-index: 1;position: relative;background-color: white;}#sk-container-id-1 div.sk-parallel-item:first-child::after {align-self: flex-end;width: 50%;}#sk-container-id-1 div.sk-parallel-item:last-child::after {align-self: flex-start;width: 50%;}#sk-container-id-1 div.sk-parallel-item:only-child::after {width: 0;}#sk-container-id-1 div.sk-dashed-wrapped {border: 1px dashed gray;margin: 0 0.4em 0.5em 0.4em;box-sizing: border-box;padding-bottom: 0.4em;background-color: white;}#sk-container-id-1 div.sk-label label {font-family: monospace;font-weight: bold;display: inline-block;line-height: 1.2em;}#sk-container-id-1 div.sk-label-container {text-align: center;}#sk-container-id-1 div.sk-container {/* jupyter's `normalize.less` sets `[hidden] { display: none; }` but bootstrap.min.css set `[hidden] { display: none !important; }` so we also need the `!important` here to be able to override the default hidden behavior on the sphinx rendered scikit-learn.org. See: https://github.com/scikit-learn/scikit-learn/issues/21755 */display: inline-block !important;position: relative;}#sk-container-id-1 div.sk-text-repr-fallback {display: none;}</style><div id=\"sk-container-id-1\" class=\"sk-top-container\"><div class=\"sk-text-repr-fallback\"><pre>LinearRegression()</pre><b>In a Jupyter environment, please rerun this cell to show the HTML representation or trust the notebook. <br />On GitHub, the HTML representation is unable to render, please try loading this page with nbviewer.org.</b></div><div class=\"sk-container\" hidden><div class=\"sk-item\"><div class=\"sk-estimator sk-toggleable\"><input class=\"sk-toggleable__control sk-hidden--visually\" id=\"sk-estimator-id-1\" type=\"checkbox\" checked><label for=\"sk-estimator-id-1\" class=\"sk-toggleable__label sk-toggleable__label-arrow\">LinearRegression</label><div class=\"sk-toggleable__content\"><pre>LinearRegression()</pre></div></div></div></div></div>"
      ],
      "text/plain": [
       "LinearRegression()"
      ]
     },
     "execution_count": 9,
     "metadata": {},
     "output_type": "execute_result"
    },
    {
     "name": "stdout",
     "output_type": "stream",
     "text": [
      "Linear Regression Model Accuracy: 51.80%\n"
     ]
    }
   ],
   "source": [
    "# Modeling using Linear Regression\n",
    "from sklearn.linear_model import LinearRegression\n",
    "lin_reg_model = LinearRegression()\n",
    "lin_reg_model.fit(x_train,y_train)\n",
    "\n",
    "# lin_reg_model.coef_\n",
    "# lin_reg_model.intercept_\n",
    "# lin_reg_model.n_features_in_\n",
    "# lin_reg_model.feature_names_in_\n",
    "\n",
    "lin_reg_model_result = lin_reg_model.score(x_test,y_test)\n",
    "print(\"Linear Regression Model Accuracy: %.2f%%\" % (lin_reg_model_result*100.0) )"
   ]
  },
  {
   "cell_type": "code",
   "execution_count": 10,
   "id": "8d1bef56",
   "metadata": {},
   "outputs": [],
   "source": [
    "###################################################################################################"
   ]
  },
  {
   "cell_type": "code",
   "execution_count": null,
   "id": "dc6d2a5d",
   "metadata": {},
   "outputs": [],
   "source": []
  },
  {
   "cell_type": "code",
   "execution_count": 11,
   "id": "85177359",
   "metadata": {},
   "outputs": [],
   "source": [
    "###################################################################################################"
   ]
  },
  {
   "cell_type": "code",
   "execution_count": 12,
   "id": "a3dc00d9",
   "metadata": {},
   "outputs": [
    {
     "name": "stdout",
     "output_type": "stream",
     "text": [
      "Polynomial Regression Model Accuracy: -17962944734158563328.00%\n"
     ]
    }
   ],
   "source": [
    "from sklearn.preprocessing import PolynomialFeatures\n",
    "poly_features = PolynomialFeatures(degree=2)\n",
    "x_train_poly, x_test_poly = poly_features.fit_transform(x_train), poly_features.fit_transform(x_test)\n",
    "\n",
    "from sklearn.linear_model import LinearRegression\n",
    "poly_reg_model = LinearRegression()\n",
    "poly_reg_model = poly_reg_model.fit(x_train_poly, y_train)\n",
    "\n",
    "# poly_reg_model.coef_\n",
    "# poly_reg_model.intercept_\n",
    "# poly_reg_model.n_features_in_\n",
    "\n",
    "poly_reg_model_result = poly_reg_model.score(x_test_poly,y_test)\n",
    "print(\"Polynomial Regression Model Accuracy: %.2f%%\" % (poly_reg_model_result*100.0) )"
   ]
  },
  {
   "cell_type": "code",
   "execution_count": 13,
   "id": "4d1d2b46",
   "metadata": {},
   "outputs": [],
   "source": [
    "# Misc. Notes\n",
    "\n",
    "# Removed Features Testing Results\n",
    "# No Feature removed\n",
    "    # Linear: 51.64%\n",
    "    # Polynomial: -1246065751288595.50%\n",
    "\n",
    "# labelEncoded Features Removed\n",
    "    # Linear: 51.39%\n",
    "    # Polynomial: -828305778846951145472.00%\n",
    "\n",
    "# oneHot Features Removed\n",
    "    # Linear: 41.28%\n",
    "    # Polynomial: 46.41%\n",
    "    \n",
    "# lat/long Features Removed\n",
    "    # Linear: 51.26%\n",
    "    # Polynomial: -278984888472831393792.00%\n",
    "    \n",
    "# labelEncoded ; lat/long Removed\n",
    "    # Linear: 50.81%\n",
    "    # Polynomial: -861022512506299088896.00%"
   ]
  },
  {
   "cell_type": "code",
   "execution_count": 14,
   "id": "207b86a6",
   "metadata": {},
   "outputs": [],
   "source": [
    "###################################################################################################"
   ]
  }
 ],
 "metadata": {
  "kernelspec": {
   "display_name": "Python 3 (ipykernel)",
   "language": "python",
   "name": "python3"
  },
  "language_info": {
   "codemirror_mode": {
    "name": "ipython",
    "version": 3
   },
   "file_extension": ".py",
   "mimetype": "text/x-python",
   "name": "python",
   "nbconvert_exporter": "python",
   "pygments_lexer": "ipython3",
   "version": "3.10.7"
  }
 },
 "nbformat": 4,
 "nbformat_minor": 5
}
