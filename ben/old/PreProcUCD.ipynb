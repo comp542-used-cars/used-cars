{
 "cells": [
  {
   "cell_type": "code",
   "execution_count": 203,
   "id": "865adc16-2298-48a7-b106-ae5c2edf6469",
   "metadata": {},
   "outputs": [
    {
     "name": "stdout",
     "output_type": "stream",
     "text": [
      "INFO: Pandarallel will run on 72 workers.\n",
      "INFO: Pandarallel will use Memory file system to transfer data between the main process and workers.\n"
     ]
    }
   ],
   "source": [
    "import numpy as np\n",
    "import pandas as pd\n",
    "from sklearn import preprocessing\n",
    "import re\n",
    "\n",
    "from pandarallel import pandarallel\n",
    "pandarallel.initialize(progress_bar=False)"
   ]
  },
  {
   "cell_type": "code",
   "execution_count": 2,
   "id": "5db07c21-7615-4767-934c-2bf8d020aa06",
   "metadata": {},
   "outputs": [],
   "source": [
    "used_car_data = pd.read_csv('used_cars_data.csv', low_memory=False)"
   ]
  },
  {
   "cell_type": "code",
   "execution_count": 3,
   "id": "bf6cff6f-2dc4-4bbc-8116-3ec8905598cc",
   "metadata": {},
   "outputs": [
    {
     "data": {
      "text/plain": [
       "Index(['vin', 'back_legroom', 'bed', 'bed_height', 'bed_length', 'body_type',\n",
       "       'cabin', 'city', 'city_fuel_economy', 'combine_fuel_economy',\n",
       "       'daysonmarket', 'dealer_zip', 'description', 'engine_cylinders',\n",
       "       'engine_displacement', 'engine_type', 'exterior_color', 'fleet',\n",
       "       'frame_damaged', 'franchise_dealer', 'franchise_make', 'front_legroom',\n",
       "       'fuel_tank_volume', 'fuel_type', 'has_accidents', 'height',\n",
       "       'highway_fuel_economy', 'horsepower', 'interior_color', 'isCab',\n",
       "       'is_certified', 'is_cpo', 'is_new', 'is_oemcpo', 'latitude', 'length',\n",
       "       'listed_date', 'listing_color', 'listing_id', 'longitude',\n",
       "       'main_picture_url', 'major_options', 'make_name', 'maximum_seating',\n",
       "       'mileage', 'model_name', 'owner_count', 'power', 'price', 'salvage',\n",
       "       'savings_amount', 'seller_rating', 'sp_id', 'sp_name', 'theft_title',\n",
       "       'torque', 'transmission', 'transmission_display', 'trimId', 'trim_name',\n",
       "       'vehicle_damage_category', 'wheel_system', 'wheel_system_display',\n",
       "       'wheelbase', 'width', 'year'],\n",
       "      dtype='object')"
      ]
     },
     "execution_count": 3,
     "metadata": {},
     "output_type": "execute_result"
    }
   ],
   "source": [
    "used_car_data.columns"
   ]
  },
  {
   "cell_type": "code",
   "execution_count": 4,
   "id": "6a4e6ab1-09dc-406d-90f9-073e5f3e3a52",
   "metadata": {},
   "outputs": [],
   "source": [
    "used_car_data.loc[used_car_data.back_legroom == '--', 'back_legroom'] = float('nan')"
   ]
  },
  {
   "cell_type": "code",
   "execution_count": 5,
   "id": "c519f62d-b278-4d51-ac9a-b1a1d366c9af",
   "metadata": {},
   "outputs": [
    {
     "data": {
      "text/plain": [
       "True"
      ]
     },
     "execution_count": 5,
     "metadata": {},
     "output_type": "execute_result"
    }
   ],
   "source": [
    "used_car_data.back_legroom.dropna().str.endswith(' in').all()"
   ]
  },
  {
   "cell_type": "code",
   "execution_count": 6,
   "id": "bab6b66f-7958-4ced-9504-4d03d036ef34",
   "metadata": {},
   "outputs": [],
   "source": [
    "used_car_data.back_legroom = used_car_data.back_legroom.str.replace(' in', '').astype('float')"
   ]
  },
  {
   "cell_type": "code",
   "execution_count": 7,
   "id": "2500a2f9-0cda-4f0e-a979-79773d0cff4a",
   "metadata": {},
   "outputs": [],
   "source": [
    "used_car_data.loc[used_car_data.bed_height == '--', 'bed_height'] = float('nan')"
   ]
  },
  {
   "cell_type": "code",
   "execution_count": 8,
   "id": "f561e710-f1f6-440e-bbe4-02babdebe857",
   "metadata": {},
   "outputs": [
    {
     "data": {
      "text/plain": [
       "Series([], Name: bed_height, dtype: object)"
      ]
     },
     "execution_count": 8,
     "metadata": {},
     "output_type": "execute_result"
    }
   ],
   "source": [
    "used_car_data.bed_height.dropna()"
   ]
  },
  {
   "cell_type": "code",
   "execution_count": 9,
   "id": "9cbac1d6-4b66-46b8-a676-7e30cd9c8c2e",
   "metadata": {},
   "outputs": [],
   "source": [
    "used_car_data.loc[used_car_data.bed_length == '--', 'bed_length'] = float('nan')"
   ]
  },
  {
   "cell_type": "code",
   "execution_count": 10,
   "id": "05ae8652-73bd-47b8-b4e9-9da41e655ef3",
   "metadata": {},
   "outputs": [
    {
     "data": {
      "text/plain": [
       "True"
      ]
     },
     "execution_count": 10,
     "metadata": {},
     "output_type": "execute_result"
    }
   ],
   "source": [
    "used_car_data.bed_length.dropna().str.endswith(' in').all()"
   ]
  },
  {
   "cell_type": "code",
   "execution_count": 11,
   "id": "fee17c30-e9f2-4e09-ba1d-6bd823c0048e",
   "metadata": {},
   "outputs": [],
   "source": [
    "used_car_data.bed_length = used_car_data.bed_length.str.replace(' in', '').astype('float')"
   ]
  },
  {
   "cell_type": "code",
   "execution_count": 12,
   "id": "795899a4-f398-40f2-84b7-83bdc656c949",
   "metadata": {},
   "outputs": [
    {
     "data": {
      "text/plain": [
       "array(['SUV / Crossover', 'Sedan', 'Coupe', 'Hatchback', 'Pickup Truck',\n",
       "       'Wagon', 'Minivan', 'Van', 'Convertible', nan], dtype=object)"
      ]
     },
     "execution_count": 12,
     "metadata": {},
     "output_type": "execute_result"
    }
   ],
   "source": [
    "used_car_data.body_type.unique()"
   ]
  },
  {
   "cell_type": "code",
   "execution_count": 13,
   "id": "95c214d9-9fa3-420e-bd63-9b9582c7cf5e",
   "metadata": {},
   "outputs": [
    {
     "data": {
      "text/plain": [
       "array([nan, 'Crew Cab', 'Extended Cab', 'Regular Cab', 'Large Crew Cab'],\n",
       "      dtype=object)"
      ]
     },
     "execution_count": 13,
     "metadata": {},
     "output_type": "execute_result"
    }
   ],
   "source": [
    "used_car_data.cabin.unique()"
   ]
  },
  {
   "cell_type": "code",
   "execution_count": 30,
   "id": "2414713c-acb8-4514-868e-84053d5e4f22",
   "metadata": {},
   "outputs": [],
   "source": [
    "city_vc = used_car_data.city.value_counts()\n",
    "top_cities = city_vc[city_vc>5000].index"
   ]
  },
  {
   "cell_type": "code",
   "execution_count": 31,
   "id": "38ea9bc4-03c0-4244-8cdd-d506ccbd466e",
   "metadata": {},
   "outputs": [],
   "source": [
    "city_data = []\n",
    "for city in top_cities:\n",
    "    entries = used_car_data[used_car_data.city==city]\n",
    "    city_data += [[entries.latitude.median(), entries.longitude.median()]]\n",
    "city_data = pd.DataFrame(city_data, columns=['latitude', 'longitude'], index=top_cities)"
   ]
  },
  {
   "cell_type": "code",
   "execution_count": 32,
   "id": "4d1bc037-60e5-4242-8d20-43aa194106b3",
   "metadata": {},
   "outputs": [
    {
     "data": {
      "text/plain": [
       "'Dallas'"
      ]
     },
     "execution_count": 32,
     "metadata": {},
     "output_type": "execute_result"
    }
   ],
   "source": [
    "((city_data.latitude-32)**2+(city_data.longitude+96)**2).idxmin()"
   ]
  },
  {
   "cell_type": "code",
   "execution_count": 33,
   "id": "31868ed5-300e-420d-990c-6624ebb8d4a3",
   "metadata": {},
   "outputs": [],
   "source": [
    "top_city_set = set(top_cities)"
   ]
  },
  {
   "cell_type": "code",
   "execution_count": 34,
   "id": "ff31cdcf-3a75-4207-bf36-adf360a46941",
   "metadata": {},
   "outputs": [],
   "source": [
    "mapped_cities = used_car_data.parallel_apply(lambda x: x.city if x.city in top_city_set else ((city_data.latitude-x.latitude)**2+(city_data.longitude-x.longitude)**2).idxmin(), axis=1)"
   ]
  },
  {
   "cell_type": "code",
   "execution_count": 35,
   "id": "a543d8d7-ac90-4a14-80f8-3180e818a3cc",
   "metadata": {},
   "outputs": [
    {
     "data": {
      "text/plain": [
       "0            Miami\n",
       "1            Miami\n",
       "2            Miami\n",
       "3            Miami\n",
       "4            Miami\n",
       "            ...   \n",
       "3000035    Fremont\n",
       "3000036    Fremont\n",
       "3000037    Fremont\n",
       "3000038    Fremont\n",
       "3000039    Fremont\n",
       "Length: 3000040, dtype: object"
      ]
     },
     "execution_count": 35,
     "metadata": {},
     "output_type": "execute_result"
    }
   ],
   "source": [
    "mapped_cities"
   ]
  },
  {
   "cell_type": "code",
   "execution_count": 36,
   "id": "a4555182-c9cc-4aa8-91f1-94c36202c57d",
   "metadata": {},
   "outputs": [
    {
     "data": {
      "text/plain": [
       "Manchester     251277\n",
       "Alexandria     138723\n",
       "Chicago         95054\n",
       "Cleveland       90823\n",
       "Minneapolis     76758\n",
       "                ...  \n",
       "Scottsdale      10499\n",
       "Chandler         9764\n",
       "Mesa             8525\n",
       "Englewood        6810\n",
       "Gilbert          5783\n",
       "Length: 92, dtype: int64"
      ]
     },
     "execution_count": 36,
     "metadata": {},
     "output_type": "execute_result"
    }
   ],
   "source": [
    "mapped_cities.value_counts()"
   ]
  },
  {
   "cell_type": "code",
   "execution_count": 38,
   "id": "34aed17f-2e1a-411d-9a0a-0edc0db1b3f9",
   "metadata": {},
   "outputs": [
    {
     "data": {
      "text/plain": [
       "Los Angeles         5790\n",
       "Cerritos            4284\n",
       "Costa Mesa          3548\n",
       "Huntington Beach    3476\n",
       "Torrance            3275\n",
       "Buena Park          2492\n",
       "Westminster         2207\n",
       "Signal Hill         1670\n",
       "Bellflower          1279\n",
       "Carson              1268\n",
       "Long Beach          1192\n",
       "Culver City         1068\n",
       "Hawthorne            955\n",
       "Inglewood            900\n",
       "Gardena              864\n",
       "Downey               737\n",
       "Montebello           686\n",
       "Garden Grove         627\n",
       "Santa Ana            590\n",
       "Norwalk              582\n",
       "Fullerton            564\n",
       "Beverly Hills        533\n",
       "South Gate           518\n",
       "Santa Fe Springs     377\n",
       "Stanton              327\n",
       "La Habra             326\n",
       "Monterey Park        315\n",
       "Whittier             308\n",
       "Midway City          300\n",
       "Commerce             266\n",
       "Anaheim              265\n",
       "Newport Beach        189\n",
       "Manhattan Beach      173\n",
       "Lynwood              149\n",
       "Lawndale             141\n",
       "Hermosa Beach        106\n",
       "Cypress               76\n",
       "Bell                  66\n",
       "Redondo Beach         56\n",
       "Marina Del Rey        50\n",
       "Huntington Park       41\n",
       "Hawaiian Gardens      38\n",
       "Harbor City           34\n",
       "Paramount             16\n",
       "East Los Angeles       7\n",
       "Brea                   7\n",
       "MONTEREY PARK          2\n",
       "Bell Gardens           1\n",
       "Name: city, dtype: int64"
      ]
     },
     "execution_count": 38,
     "metadata": {},
     "output_type": "execute_result"
    }
   ],
   "source": [
    "used_car_data.city[mapped_cities=='Los Angeles'].value_counts()"
   ]
  },
  {
   "cell_type": "code",
   "execution_count": 39,
   "id": "0e35680d-f3f6-42f1-8879-0418c11aec6e",
   "metadata": {},
   "outputs": [],
   "source": [
    "used_car_data.city = mapped_cities"
   ]
  },
  {
   "cell_type": "code",
   "execution_count": 40,
   "id": "07771993-978b-49e5-bca1-ef9d002bdaba",
   "metadata": {},
   "outputs": [
    {
     "data": {
      "text/plain": [
       "0           NaN\n",
       "1           NaN\n",
       "2          17.0\n",
       "3           NaN\n",
       "4           NaN\n",
       "           ... \n",
       "3000035    26.0\n",
       "3000036    18.0\n",
       "3000037     NaN\n",
       "3000038    30.0\n",
       "3000039    26.0\n",
       "Name: city_fuel_economy, Length: 3000040, dtype: float64"
      ]
     },
     "execution_count": 40,
     "metadata": {},
     "output_type": "execute_result"
    }
   ],
   "source": [
    "used_car_data.city_fuel_economy"
   ]
  },
  {
   "cell_type": "code",
   "execution_count": 42,
   "id": "bedf9d20-9514-4be0-99e3-e2a992670ede",
   "metadata": {},
   "outputs": [
    {
     "data": {
      "text/plain": [
       "Series([], Name: combine_fuel_economy, dtype: float64)"
      ]
     },
     "execution_count": 42,
     "metadata": {},
     "output_type": "execute_result"
    }
   ],
   "source": [
    "used_car_data.combine_fuel_economy.dropna()"
   ]
  },
  {
   "cell_type": "code",
   "execution_count": 43,
   "id": "c369e110-0a5e-4dc3-b1dd-b64c3e3c64d0",
   "metadata": {},
   "outputs": [
    {
     "data": {
      "text/plain": [
       "0           522\n",
       "1           207\n",
       "2          1233\n",
       "3           196\n",
       "4           137\n",
       "           ... \n",
       "3000035      16\n",
       "3000036     171\n",
       "3000037      91\n",
       "3000038      11\n",
       "3000039      17\n",
       "Name: daysonmarket, Length: 3000040, dtype: int64"
      ]
     },
     "execution_count": 43,
     "metadata": {},
     "output_type": "execute_result"
    }
   ],
   "source": [
    "used_car_data.daysonmarket"
   ]
  },
  {
   "cell_type": "code",
   "execution_count": 46,
   "id": "421e7ec8-eed3-467b-8160-c9b69bd2e130",
   "metadata": {},
   "outputs": [],
   "source": [
    "used_car_data.engine_cylinders = used_car_data.engine_cylinders.str[:2]"
   ]
  },
  {
   "cell_type": "code",
   "execution_count": 50,
   "id": "bdaf1e68-a6c3-4cd5-be20-efec689e2f42",
   "metadata": {},
   "outputs": [
    {
     "data": {
      "text/plain": [
       "0           I4\n",
       "1           I4\n",
       "2           H4\n",
       "3           V6\n",
       "4           I4\n",
       "          ... \n",
       "3000035     I4\n",
       "3000036     V6\n",
       "3000037    NaN\n",
       "3000038     I4\n",
       "3000039     I4\n",
       "Name: engine_cylinders, Length: 3000040, dtype: object"
      ]
     },
     "execution_count": 50,
     "metadata": {},
     "output_type": "execute_result"
    }
   ],
   "source": [
    "used_car_data.engine_cylinders"
   ]
  },
  {
   "cell_type": "code",
   "execution_count": 47,
   "id": "5c7a6797-f017-478f-ab19-7d196b378ae6",
   "metadata": {},
   "outputs": [
    {
     "data": {
      "text/plain": [
       "0          1300.0\n",
       "1          2000.0\n",
       "2          2500.0\n",
       "3          3000.0\n",
       "4          2000.0\n",
       "            ...  \n",
       "3000035    1500.0\n",
       "3000036    3600.0\n",
       "3000037    2000.0\n",
       "3000038    2000.0\n",
       "3000039    2500.0\n",
       "Name: engine_displacement, Length: 3000040, dtype: float64"
      ]
     },
     "execution_count": 47,
     "metadata": {},
     "output_type": "execute_result"
    }
   ],
   "source": [
    "used_car_data.engine_displacement"
   ]
  },
  {
   "cell_type": "code",
   "execution_count": 52,
   "id": "ff011fba-d1b6-4266-9165-366807179b90",
   "metadata": {},
   "outputs": [
    {
     "data": {
      "text/plain": [
       "0            NaN\n",
       "1            NaN\n",
       "2          False\n",
       "3            NaN\n",
       "4            NaN\n",
       "           ...  \n",
       "3000035     True\n",
       "3000036      NaN\n",
       "3000037    False\n",
       "3000038    False\n",
       "3000039    False\n",
       "Name: fleet, Length: 3000040, dtype: object"
      ]
     },
     "execution_count": 52,
     "metadata": {},
     "output_type": "execute_result"
    }
   ],
   "source": [
    "used_car_data.fleet"
   ]
  },
  {
   "cell_type": "code",
   "execution_count": 54,
   "id": "fcfa1cb1-255c-4b34-a719-035be713e3ae",
   "metadata": {},
   "outputs": [],
   "source": [
    "used_car_data.frame_damaged = used_car_data.frame_damaged.fillna(False)"
   ]
  },
  {
   "cell_type": "code",
   "execution_count": 59,
   "id": "b7c51779-4ea9-4360-b53d-6337fba61da6",
   "metadata": {},
   "outputs": [
    {
     "data": {
      "text/plain": [
       "0           True\n",
       "1           True\n",
       "2           True\n",
       "3           True\n",
       "4           True\n",
       "           ...  \n",
       "3000035    False\n",
       "3000036     True\n",
       "3000037     True\n",
       "3000038    False\n",
       "3000039     True\n",
       "Name: franchise_dealer, Length: 3000040, dtype: bool"
      ]
     },
     "execution_count": 59,
     "metadata": {},
     "output_type": "execute_result"
    }
   ],
   "source": [
    "used_car_data.franchise_dealer"
   ]
  },
  {
   "cell_type": "code",
   "execution_count": 61,
   "id": "a9ec2dad-3b4f-4808-a8f6-d0c992b6cb8a",
   "metadata": {},
   "outputs": [
    {
     "data": {
      "text/plain": [
       "Ford             395521\n",
       "Chevrolet        338817\n",
       "Toyota           186718\n",
       "Honda            184515\n",
       "Jeep             177100\n",
       "Nissan           152590\n",
       "Hyundai          107099\n",
       "Kia               92690\n",
       "RAM               77079\n",
       "Buick             74419\n",
       "Volkswagen        62430\n",
       "Subaru            60899\n",
       "GMC               60677\n",
       "Dodge             49212\n",
       "Mercedes-Benz     45867\n",
       "Mazda             45743\n",
       "BMW               45540\n",
       "Cadillac          35081\n",
       "Lexus             28602\n",
       "Audi              26896\n",
       "Acura             26282\n",
       "Lincoln           25535\n",
       "Mitsubishi        20079\n",
       "Chrysler          19563\n",
       "Volvo             19353\n",
       "INFINITI          18665\n",
       "Land Rover        12662\n",
       "Porsche           10897\n",
       "MINI               5448\n",
       "Jaguar             4965\n",
       "FIAT               4207\n",
       "Scion              3976\n",
       "Maserati           2598\n",
       "Alfa Romeo         1486\n",
       "Genesis            1123\n",
       "Bentley             541\n",
       "Rolls-Royce         506\n",
       "Aston Martin        482\n",
       "Ferrari             458\n",
       "Lotus               436\n",
       "McLaren             309\n",
       "Lamborghini         149\n",
       "Shelby               55\n",
       "Freightliner         54\n",
       "smart                30\n",
       "Rover                25\n",
       "Pagani               13\n",
       "SRT                  13\n",
       "Name: franchise_make, dtype: int64"
      ]
     },
     "execution_count": 61,
     "metadata": {},
     "output_type": "execute_result"
    }
   ],
   "source": [
    "used_car_data.franchise_make.value_counts()"
   ]
  },
  {
   "cell_type": "code",
   "execution_count": 65,
   "id": "a6835ac9-f13e-4852-af6e-f92ce5733388",
   "metadata": {},
   "outputs": [],
   "source": [
    "used_car_data.front_legroom = used_car_data.front_legroom.replace('--', float('nan'))"
   ]
  },
  {
   "cell_type": "code",
   "execution_count": 66,
   "id": "2652dbc3-bbba-4716-8712-b55d36f283c4",
   "metadata": {},
   "outputs": [
    {
     "data": {
      "text/plain": [
       "True"
      ]
     },
     "execution_count": 66,
     "metadata": {},
     "output_type": "execute_result"
    }
   ],
   "source": [
    "used_car_data.front_legroom.dropna().str.endswith(' in').all()"
   ]
  },
  {
   "cell_type": "code",
   "execution_count": 67,
   "id": "72e8208e-e072-44ad-988d-2f3cf264f38a",
   "metadata": {},
   "outputs": [],
   "source": [
    "used_car_data.front_legroom = used_car_data.front_legroom.str.replace(' in', '').astype('float')"
   ]
  },
  {
   "cell_type": "code",
   "execution_count": 70,
   "id": "9185c54c-8869-46c9-83e8-ab58572b6beb",
   "metadata": {},
   "outputs": [],
   "source": [
    "used_car_data.fuel_tank_volume = used_car_data.fuel_tank_volume.replace('--', float('nan'))"
   ]
  },
  {
   "cell_type": "code",
   "execution_count": 72,
   "id": "3423f510-74f9-406b-8bbd-4e6c7d48e185",
   "metadata": {},
   "outputs": [
    {
     "data": {
      "text/plain": [
       "True"
      ]
     },
     "execution_count": 72,
     "metadata": {},
     "output_type": "execute_result"
    }
   ],
   "source": [
    "used_car_data.fuel_tank_volume.dropna().str.endswith(' gal').all()"
   ]
  },
  {
   "cell_type": "code",
   "execution_count": 73,
   "id": "462edd03-26cc-4b57-a7be-91c16f52abbe",
   "metadata": {},
   "outputs": [],
   "source": [
    "used_car_data.fuel_tank_volume = used_car_data.fuel_tank_volume.str.replace(' gal', '').astype('float')"
   ]
  },
  {
   "cell_type": "code",
   "execution_count": 74,
   "id": "7c18ead2-8df7-40e5-9e3c-cead35adaa71",
   "metadata": {},
   "outputs": [
    {
     "data": {
      "text/plain": [
       "0          Gasoline\n",
       "1          Gasoline\n",
       "2          Gasoline\n",
       "3          Gasoline\n",
       "4          Gasoline\n",
       "             ...   \n",
       "3000035    Gasoline\n",
       "3000036    Gasoline\n",
       "3000037         NaN\n",
       "3000038      Diesel\n",
       "3000039    Gasoline\n",
       "Name: fuel_type, Length: 3000040, dtype: object"
      ]
     },
     "execution_count": 74,
     "metadata": {},
     "output_type": "execute_result"
    }
   ],
   "source": [
    "used_car_data.fuel_type"
   ]
  },
  {
   "cell_type": "code",
   "execution_count": 76,
   "id": "1b92a3fd-a088-4ffd-81a3-3499f44548ba",
   "metadata": {},
   "outputs": [],
   "source": [
    "used_car_data.has_accidents = used_car_data.has_accidents.fillna(False)"
   ]
  },
  {
   "cell_type": "code",
   "execution_count": 80,
   "id": "60975b3c-ba0f-4873-bb62-07d74e8f506b",
   "metadata": {},
   "outputs": [
    {
     "data": {
      "text/plain": [
       "True"
      ]
     },
     "execution_count": 80,
     "metadata": {},
     "output_type": "execute_result"
    }
   ],
   "source": [
    "used_car_data.height = used_car_data.height.replace('--', float('nan'))\n",
    "used_car_data.height.str.endswith(' in').all()"
   ]
  },
  {
   "cell_type": "code",
   "execution_count": 81,
   "id": "05c89153-fd0d-42a9-bd9d-80d1d5deb176",
   "metadata": {},
   "outputs": [],
   "source": [
    "used_car_data.height = used_car_data.height.str.replace(' in', '').astype('float')"
   ]
  },
  {
   "cell_type": "code",
   "execution_count": 95,
   "id": "9b72edd2-34c3-4c2c-b246-dd0f4123880e",
   "metadata": {},
   "outputs": [],
   "source": [
    "used_car_data.fleet = used_car_data.fleet.fillna(False)"
   ]
  },
  {
   "cell_type": "code",
   "execution_count": 101,
   "id": "fa6fde5d-3570-46d2-8f03-f6ba120ebde4",
   "metadata": {},
   "outputs": [
    {
     "data": {
      "text/plain": [
       "0           NaN\n",
       "1           NaN\n",
       "2          23.0\n",
       "3           NaN\n",
       "4           NaN\n",
       "           ... \n",
       "3000035    32.0\n",
       "3000036    27.0\n",
       "3000037     NaN\n",
       "3000038    40.0\n",
       "3000039    33.0\n",
       "Name: highway_fuel_economy, Length: 3000040, dtype: float64"
      ]
     },
     "execution_count": 101,
     "metadata": {},
     "output_type": "execute_result"
    }
   ],
   "source": [
    "used_car_data.highway_fuel_economy"
   ]
  },
  {
   "cell_type": "code",
   "execution_count": 102,
   "id": "fb729b3a-2245-44c5-930d-5c9e88bd7b82",
   "metadata": {},
   "outputs": [
    {
     "data": {
      "text/plain": [
       "0          177.0\n",
       "1          246.0\n",
       "2          305.0\n",
       "3          340.0\n",
       "4          246.0\n",
       "           ...  \n",
       "3000035    170.0\n",
       "3000036    310.0\n",
       "3000037    240.0\n",
       "3000038    180.0\n",
       "3000039    170.0\n",
       "Name: horsepower, Length: 3000040, dtype: float64"
      ]
     },
     "execution_count": 102,
     "metadata": {},
     "output_type": "execute_result"
    }
   ],
   "source": [
    "used_car_data.horsepower"
   ]
  },
  {
   "cell_type": "code",
   "execution_count": 104,
   "id": "2b959958-aaa6-4fb1-a4f6-6c4a927763fc",
   "metadata": {},
   "outputs": [],
   "source": [
    "used_car_data.isCab = used_car_data.isCab.fillna(False)"
   ]
  },
  {
   "cell_type": "code",
   "execution_count": 112,
   "id": "b5e157d7-8456-4444-b784-d03548fba705",
   "metadata": {},
   "outputs": [],
   "source": [
    "used_car_data.is_cpo = used_car_data.is_cpo.fillna(False)"
   ]
  },
  {
   "cell_type": "code",
   "execution_count": 114,
   "id": "ca9e8f49-03b1-433c-9645-328960dfd046",
   "metadata": {},
   "outputs": [
    {
     "data": {
      "text/plain": [
       "False"
      ]
     },
     "execution_count": 114,
     "metadata": {},
     "output_type": "execute_result"
    }
   ],
   "source": [
    "used_car_data.is_new.hasnans"
   ]
  },
  {
   "cell_type": "code",
   "execution_count": 117,
   "id": "8ab43bef-17e3-41cb-83bd-8ea1b9f4a0c6",
   "metadata": {},
   "outputs": [
    {
     "data": {
      "text/plain": [
       "True"
      ]
     },
     "execution_count": 117,
     "metadata": {},
     "output_type": "execute_result"
    }
   ],
   "source": [
    "((used_car_data.is_oemcpo.fillna(False) | used_car_data.is_cpo) == used_car_data.is_cpo).all()"
   ]
  },
  {
   "cell_type": "code",
   "execution_count": 118,
   "id": "2e79dd56-b5cc-4990-989d-54af1f1c7417",
   "metadata": {},
   "outputs": [
    {
     "data": {
      "text/plain": [
       "True"
      ]
     },
     "execution_count": 118,
     "metadata": {},
     "output_type": "execute_result"
    }
   ],
   "source": [
    "used_car_data.length = used_car_data.length.replace('--', float('nan'))\n",
    "used_car_data.length.str.endswith(' in').all()"
   ]
  },
  {
   "cell_type": "code",
   "execution_count": 119,
   "id": "4cb78b25-733c-4975-a130-293ce69092f1",
   "metadata": {},
   "outputs": [],
   "source": [
    "used_car_data.length = used_car_data.length.str.replace(' in', '').astype('float')"
   ]
  },
  {
   "cell_type": "code",
   "execution_count": 142,
   "id": "fe6c88a7-cd99-4553-8128-18e702dd70ea",
   "metadata": {},
   "outputs": [],
   "source": [
    "month_listed = used_car_data.listed_date.astype('datetime64').dt.month\n",
    "year_listed = used_car_data.listed_date.astype('datetime64').dt.year"
   ]
  },
  {
   "cell_type": "code",
   "execution_count": 145,
   "id": "81fa5afb-030c-4747-817f-d3450cae1ef4",
   "metadata": {},
   "outputs": [
    {
     "data": {
      "text/plain": [
       "8     1106388\n",
       "9      565170\n",
       "7      536309\n",
       "6      225923\n",
       "3      115727\n",
       "2       93972\n",
       "5       88574\n",
       "1       69368\n",
       "4       63353\n",
       "12      57037\n",
       "11      44123\n",
       "10      34096\n",
       "Name: listed_date, dtype: int64"
      ]
     },
     "execution_count": 145,
     "metadata": {},
     "output_type": "execute_result"
    }
   ],
   "source": [
    "month_listed.value_counts()"
   ]
  },
  {
   "cell_type": "code",
   "execution_count": 153,
   "id": "1476c18c-fad0-4e74-abe6-d54d754a9dc8",
   "metadata": {},
   "outputs": [
    {
     "data": {
      "text/plain": [
       "True"
      ]
     },
     "execution_count": 153,
     "metadata": {},
     "output_type": "execute_result"
    }
   ],
   "source": [
    "used_car_data.maximum_seating = used_car_data.maximum_seating.replace('--', float('nan'))\n",
    "used_car_data.maximum_seating.str.endswith(' seats').all()"
   ]
  },
  {
   "cell_type": "code",
   "execution_count": 157,
   "id": "8a6600e6-d50a-4b46-bf33-d586f801f432",
   "metadata": {},
   "outputs": [],
   "source": [
    "used_car_data.maximum_seating = used_car_data.maximum_seating.str.replace(' seats', '').astype('float')"
   ]
  },
  {
   "cell_type": "code",
   "execution_count": 158,
   "id": "4554452e-cbb9-49a4-b4ca-6c684957eb7f",
   "metadata": {},
   "outputs": [
    {
     "data": {
      "text/plain": [
       "0              7.0\n",
       "1              8.0\n",
       "2              NaN\n",
       "3             11.0\n",
       "4              7.0\n",
       "            ...   \n",
       "3000035    41897.0\n",
       "3000036        5.0\n",
       "3000037    57992.0\n",
       "3000038    27857.0\n",
       "3000039    22600.0\n",
       "Name: mileage, Length: 3000040, dtype: float64"
      ]
     },
     "execution_count": 158,
     "metadata": {},
     "output_type": "execute_result"
    }
   ],
   "source": [
    "used_car_data.mileage"
   ]
  },
  {
   "cell_type": "code",
   "execution_count": 160,
   "id": "649db3f7-ac61-42c1-af01-dd9b87713dff",
   "metadata": {},
   "outputs": [],
   "source": [
    "used_car_data.owner_count = used_car_data.owner_count.fillna(1.)"
   ]
  },
  {
   "cell_type": "code",
   "execution_count": 162,
   "id": "8d572cc0-7b9b-472c-bece-72172559ece5",
   "metadata": {},
   "outputs": [
    {
     "data": {
      "text/plain": [
       "0          23141.0\n",
       "1          46500.0\n",
       "2          46995.0\n",
       "3          67430.0\n",
       "4          48880.0\n",
       "            ...   \n",
       "3000035    17998.0\n",
       "3000036    36490.0\n",
       "3000037    12990.0\n",
       "3000038    26998.0\n",
       "3000039    19900.0\n",
       "Name: price, Length: 3000040, dtype: float64"
      ]
     },
     "execution_count": 162,
     "metadata": {},
     "output_type": "execute_result"
    }
   ],
   "source": [
    "used_car_data.price"
   ]
  },
  {
   "cell_type": "code",
   "execution_count": 171,
   "id": "c21362a0-ff9f-484d-96cf-00a2eef2e528",
   "metadata": {},
   "outputs": [],
   "source": [
    "used_car_data.seller_rating = used_car_data.seller_rating.fillna(4.)"
   ]
  },
  {
   "cell_type": "code",
   "execution_count": 172,
   "id": "0b7a2659-c0ad-419f-987c-edbdc8a4686e",
   "metadata": {},
   "outputs": [
    {
     "data": {
      "text/plain": [
       "0                                          Flagship Chrysler\n",
       "1                                        Land Rover San Juan\n",
       "2                                           FIAT de San Juan\n",
       "3                                        Land Rover San Juan\n",
       "4                                        Land Rover San Juan\n",
       "                                 ...                        \n",
       "3000035    CarMax Fairfield - Now offering Curbside Picku...\n",
       "3000036                                       Team Chevrolet\n",
       "3000037              Hanlees Chrysler Dodge Jeep Ram of Napa\n",
       "3000038    CarMax Fairfield - Now offering Curbside Picku...\n",
       "3000039                                      Napa Nissan Inc\n",
       "Name: sp_name, Length: 3000040, dtype: object"
      ]
     },
     "execution_count": 172,
     "metadata": {},
     "output_type": "execute_result"
    }
   ],
   "source": [
    "used_car_data.sp_name"
   ]
  },
  {
   "cell_type": "code",
   "execution_count": 181,
   "id": "02f1271f-e3c8-4337-8e33-ed8c4d6690de",
   "metadata": {},
   "outputs": [
    {
     "data": {
      "text/plain": [
       "Series([], Name: vehicle_damage_category, dtype: float64)"
      ]
     },
     "execution_count": 181,
     "metadata": {},
     "output_type": "execute_result"
    }
   ],
   "source": [
    "used_car_data.vehicle_damage_category.dropna()"
   ]
  },
  {
   "cell_type": "code",
   "execution_count": 183,
   "id": "13206cd2-40d9-492a-883c-3d170cb32ea7",
   "metadata": {},
   "outputs": [
    {
     "data": {
      "text/plain": [
       "FWD    1261367\n",
       "AWD     695731\n",
       "4WD     584524\n",
       "RWD     190757\n",
       "4X2     120929\n",
       "Name: wheel_system, dtype: int64"
      ]
     },
     "execution_count": 183,
     "metadata": {},
     "output_type": "execute_result"
    }
   ],
   "source": [
    "used_car_data.wheel_system.value_counts()"
   ]
  },
  {
   "cell_type": "code",
   "execution_count": 185,
   "id": "b3802234-41f5-4bb1-ad74-31840cd5129c",
   "metadata": {},
   "outputs": [
    {
     "data": {
      "text/plain": [
       "True"
      ]
     },
     "execution_count": 185,
     "metadata": {},
     "output_type": "execute_result"
    }
   ],
   "source": [
    "used_car_data.width = used_car_data.width.replace('--', float('nan'))\n",
    "used_car_data.width.str.endswith(' in').all()"
   ]
  },
  {
   "cell_type": "code",
   "execution_count": 186,
   "id": "8543e699-6251-45bc-a4e4-71b0626403b4",
   "metadata": {},
   "outputs": [],
   "source": [
    "used_car_data.width = used_car_data.width.str.replace(' in', '').astype('float')"
   ]
  },
  {
   "cell_type": "code",
   "execution_count": 187,
   "id": "6117dc96-56fc-4b18-a74a-808496a73360",
   "metadata": {},
   "outputs": [
    {
     "data": {
      "text/plain": [
       "0          2019\n",
       "1          2020\n",
       "2          2016\n",
       "3          2020\n",
       "4          2020\n",
       "           ... \n",
       "3000035    2018\n",
       "3000036    2020\n",
       "3000037    2016\n",
       "3000038    2017\n",
       "3000039    2017\n",
       "Name: year, Length: 3000040, dtype: int64"
      ]
     },
     "execution_count": 187,
     "metadata": {},
     "output_type": "execute_result"
    }
   ],
   "source": [
    "used_car_data.year"
   ]
  },
  {
   "cell_type": "code",
   "execution_count": 192,
   "id": "c07a403f-fd98-49ce-95dc-36cabf5a2899",
   "metadata": {},
   "outputs": [],
   "source": [
    "model_age = year_listed - used_car_data.year"
   ]
  },
  {
   "cell_type": "code",
   "execution_count": 194,
   "id": "5fdd9b83-20d4-4e35-8c15-567627512e1d",
   "metadata": {},
   "outputs": [
    {
     "data": {
      "text/plain": [
       "True"
      ]
     },
     "execution_count": 194,
     "metadata": {},
     "output_type": "execute_result"
    }
   ],
   "source": [
    "used_car_data.wheelbase = used_car_data.wheelbase.replace('--', float('nan'))\n",
    "used_car_data.wheelbase.str.endswith(' in').all()"
   ]
  },
  {
   "cell_type": "code",
   "execution_count": 195,
   "id": "eed3381d-1861-4fd5-8160-9b6e00f90ac6",
   "metadata": {},
   "outputs": [],
   "source": [
    "used_car_data.wheelbase = used_car_data.wheelbase.str.replace(' in', '').astype('float')"
   ]
  },
  {
   "cell_type": "code",
   "execution_count": 202,
   "id": "8d1a0dbb-6b67-423d-88de-50e86cd21285",
   "metadata": {},
   "outputs": [
    {
     "data": {
      "text/plain": [
       "True"
      ]
     },
     "execution_count": 202,
     "metadata": {},
     "output_type": "execute_result"
    }
   ],
   "source": [
    "used_car_data.body_type.hasnans"
   ]
  },
  {
   "cell_type": "code",
   "execution_count": 207,
   "id": "8f26f3ee-d8ca-4ab6-8179-388703b73b14",
   "metadata": {},
   "outputs": [
    {
     "data": {
      "text/plain": [
       "array(['Long', 'Regular', 'Short', nan], dtype=object)"
      ]
     },
     "execution_count": 207,
     "metadata": {},
     "output_type": "execute_result"
    }
   ],
   "source": [
    "le_bed = preprocessing.LabelEncoder()\n",
    "le_bed.fit(used_car_data.bed)\n",
    "le_bed.classes_"
   ]
  },
  {
   "cell_type": "code",
   "execution_count": 209,
   "id": "6595c8e4-697d-40a5-b9ee-8f7db0def67b",
   "metadata": {},
   "outputs": [],
   "source": [
    "used_car_data.bed = le_bed.transform(used_car_data.bed)"
   ]
  },
  {
   "cell_type": "code",
   "execution_count": 210,
   "id": "169f97e2-8141-417b-80d4-d668abbd16ea",
   "metadata": {},
   "outputs": [],
   "source": [
    "def trf_cat(feat):\n",
    "    le = preprocessing.LabelEncoder()\n",
    "    le.fit(used_car_data[feat])\n",
    "    print(le.classes_)\n",
    "    print('Good?')\n",
    "    if input() == 'y':\n",
    "        used_car_data[feat] = le.transform(used_car_data[feat])\n",
    "        print('Done')\n",
    "\n",
    "        "
   ]
  },
  {
   "cell_type": "code",
   "execution_count": 211,
   "id": "334c885f-c081-49b2-8ccc-762cec119cf4",
   "metadata": {},
   "outputs": [
    {
     "name": "stdout",
     "output_type": "stream",
     "text": [
      "['Convertible' 'Coupe' 'Hatchback' 'Minivan' 'Pickup Truck'\n",
      " 'SUV / Crossover' 'Sedan' 'Van' 'Wagon' nan]\n",
      "Good?\n"
     ]
    },
    {
     "name": "stdin",
     "output_type": "stream",
     "text": [
      " y\n"
     ]
    },
    {
     "name": "stdout",
     "output_type": "stream",
     "text": [
      "Done\n"
     ]
    }
   ],
   "source": [
    "trf_cat('body_type')"
   ]
  },
  {
   "cell_type": "code",
   "execution_count": 212,
   "id": "babe228f-69f7-49c8-870b-5d6eaed606bb",
   "metadata": {},
   "outputs": [
    {
     "name": "stdout",
     "output_type": "stream",
     "text": [
      "['Crew Cab' 'Extended Cab' 'Large Crew Cab' 'Regular Cab' nan]\n",
      "Good?\n"
     ]
    },
    {
     "name": "stdin",
     "output_type": "stream",
     "text": [
      " y\n"
     ]
    },
    {
     "name": "stdout",
     "output_type": "stream",
     "text": [
      "Done\n"
     ]
    }
   ],
   "source": [
    "trf_cat('cabin')"
   ]
  },
  {
   "cell_type": "code",
   "execution_count": 213,
   "id": "33e2ec56-dc7e-4029-8471-1fad7a11f4ea",
   "metadata": {},
   "outputs": [
    {
     "name": "stdout",
     "output_type": "stream",
     "text": [
      "['Albuquerque' 'Alexandria' 'Arlington' 'Atlanta' 'Auburn' 'Aurora'\n",
      " 'Austin' 'Baton Rouge' 'Birmingham' 'Bloomington' 'Carrollton' 'Chandler'\n",
      " 'Charleston' 'Charlotte' 'Chicago' 'Cincinnati' 'Clarksville' 'Cleveland'\n",
      " 'Colorado Springs' 'Columbia' 'Columbus' 'Concord' 'Dallas' 'Denver'\n",
      " 'Duluth' 'El Paso' 'Englewood' 'Fort Lauderdale' 'Fort Myers'\n",
      " 'Fort Worth' 'Franklin' 'Fremont' 'Gainesville' 'Gilbert' 'Glendale'\n",
      " 'Grand Rapids' 'Greenville' 'Henderson' 'Houston' 'Indianapolis'\n",
      " 'Jackson' 'Jacksonville' 'Kansas City' 'Knoxville' 'Lafayette'\n",
      " 'Las Vegas' 'Lexington' 'Littleton' 'Los Angeles' 'Louisville' 'Madison'\n",
      " 'Manchester' 'Marietta' 'Memphis' 'Mesa' 'Miami' 'Milwaukee'\n",
      " 'Minneapolis' 'Oklahoma City' 'Omaha' 'Ontario' 'Orlando' 'Pensacola'\n",
      " 'Peoria' 'Phoenix' 'Pittsburgh' 'Plano' 'Raleigh' 'Reno' 'Richmond'\n",
      " 'Rochester' 'Roseville' 'Sacramento' 'Saint Louis' 'Salt Lake City'\n",
      " 'San Antonio' 'San Diego' 'San Jose' 'Sanford' 'Scottsdale' 'Spring'\n",
      " 'Springfield' 'Stafford' 'Tampa' 'Tucson' 'Tulsa' 'Van Nuys'\n",
      " 'Virginia Beach' 'West Palm Beach' 'Wichita' 'Wilmington' 'Woodbridge']\n",
      "Good?\n"
     ]
    },
    {
     "name": "stdin",
     "output_type": "stream",
     "text": [
      " y\n"
     ]
    },
    {
     "name": "stdout",
     "output_type": "stream",
     "text": [
      "Done\n"
     ]
    }
   ],
   "source": [
    "trf_cat('city')"
   ]
  },
  {
   "cell_type": "code",
   "execution_count": 214,
   "id": "547ff8b9-d921-4b8a-9631-1f087e33eb70",
   "metadata": {},
   "outputs": [
    {
     "name": "stdout",
     "output_type": "stream",
     "text": [
      "['H4' 'H6' 'I2' 'I3' 'I4' 'I5' 'I6' 'R2' 'V1' 'V6' 'V8' 'W1' 'W8' nan]\n",
      "Good?\n"
     ]
    },
    {
     "name": "stdin",
     "output_type": "stream",
     "text": [
      " y\n"
     ]
    },
    {
     "name": "stdout",
     "output_type": "stream",
     "text": [
      "Done\n"
     ]
    }
   ],
   "source": [
    "trf_cat('engine_cylinders')"
   ]
  },
  {
   "cell_type": "code",
   "execution_count": 215,
   "id": "dad3d874-9b95-4ead-b6af-d18bbeb3b69b",
   "metadata": {},
   "outputs": [
    {
     "name": "stdout",
     "output_type": "stream",
     "text": [
      "['Acura' 'Alfa Romeo' 'Aston Martin' 'Audi' 'BMW' 'Bentley' 'Buick'\n",
      " 'Cadillac' 'Chevrolet' 'Chrysler' 'Dodge' 'FIAT' 'Ferrari' 'Ford'\n",
      " 'Freightliner' 'GMC' 'Genesis' 'Honda' 'Hyundai' 'INFINITI' 'Jaguar'\n",
      " 'Jeep' 'Kia' 'Lamborghini' 'Land Rover' 'Lexus' 'Lincoln' 'Lotus' 'MINI'\n",
      " 'Maserati' 'Mazda' 'McLaren' 'Mercedes-Benz' 'Mitsubishi' 'Nissan'\n",
      " 'Pagani' 'Porsche' 'RAM' 'Rolls-Royce' 'Rover' 'SRT' 'Scion' 'Shelby'\n",
      " 'Subaru' 'Toyota' 'Volkswagen' 'Volvo' 'smart' nan]\n",
      "Good?\n"
     ]
    },
    {
     "name": "stdin",
     "output_type": "stream",
     "text": [
      " y\n"
     ]
    },
    {
     "name": "stdout",
     "output_type": "stream",
     "text": [
      "Done\n"
     ]
    }
   ],
   "source": [
    "trf_cat('franchise_make')"
   ]
  },
  {
   "cell_type": "code",
   "execution_count": 217,
   "id": "10b0b3c6-708c-4b66-8b23-555a8f241b73",
   "metadata": {},
   "outputs": [],
   "source": [
    "used_car_data.fuel_type = used_car_data.fuel_type.fillna('Gasoline')"
   ]
  },
  {
   "cell_type": "code",
   "execution_count": 218,
   "id": "4f95c19a-08bd-4163-af77-f07a6d6b8298",
   "metadata": {},
   "outputs": [
    {
     "name": "stdout",
     "output_type": "stream",
     "text": [
      "['Biodiesel' 'Compressed Natural Gas' 'Diesel' 'Electric'\n",
      " 'Flex Fuel Vehicle' 'Gasoline' 'Hybrid' 'Propane']\n",
      "Good?\n"
     ]
    },
    {
     "name": "stdin",
     "output_type": "stream",
     "text": [
      " y\n"
     ]
    },
    {
     "name": "stdout",
     "output_type": "stream",
     "text": [
      "Done\n"
     ]
    }
   ],
   "source": [
    "trf_cat('fuel_type')"
   ]
  },
  {
   "cell_type": "code",
   "execution_count": 219,
   "id": "d09ea975-3e31-4cf7-9ef8-6a5b57f98999",
   "metadata": {},
   "outputs": [
    {
     "name": "stdout",
     "output_type": "stream",
     "text": [
      "['BLACK' 'BLUE' 'BROWN' 'GOLD' 'GRAY' 'GREEN' 'ORANGE' 'PINK' 'PURPLE'\n",
      " 'RED' 'SILVER' 'TEAL' 'UNKNOWN' 'WHITE' 'YELLOW']\n",
      "Good?\n"
     ]
    },
    {
     "name": "stdin",
     "output_type": "stream",
     "text": [
      " y\n"
     ]
    },
    {
     "name": "stdout",
     "output_type": "stream",
     "text": [
      "Done\n"
     ]
    }
   ],
   "source": [
    "trf_cat('listing_color')"
   ]
  },
  {
   "cell_type": "code",
   "execution_count": 223,
   "id": "37ba6b47-c314-4b6e-9aff-36c919f8a9f9",
   "metadata": {},
   "outputs": [],
   "source": [
    "used_car_data.transmission = used_car_data.transmission.fillna('A')"
   ]
  },
  {
   "cell_type": "code",
   "execution_count": 224,
   "id": "ff4ff42e-dd3d-44d1-9d2b-6662f392f602",
   "metadata": {},
   "outputs": [
    {
     "name": "stdout",
     "output_type": "stream",
     "text": [
      "['A' 'CVT' 'Dual Clutch' 'M']\n",
      "Good?\n"
     ]
    },
    {
     "name": "stdin",
     "output_type": "stream",
     "text": [
      " y\n"
     ]
    },
    {
     "name": "stdout",
     "output_type": "stream",
     "text": [
      "Done\n"
     ]
    }
   ],
   "source": [
    "trf_cat('transmission')"
   ]
  },
  {
   "cell_type": "code",
   "execution_count": 227,
   "id": "c9ff8892-eb66-408e-92c5-16568da22725",
   "metadata": {},
   "outputs": [],
   "source": [
    "used_car_data.wheel_system = used_car_data.wheel_system.fillna('FWD')"
   ]
  },
  {
   "cell_type": "code",
   "execution_count": 228,
   "id": "bb8539f2-1b41-407e-a765-6beef13cc5d8",
   "metadata": {},
   "outputs": [
    {
     "name": "stdout",
     "output_type": "stream",
     "text": [
      "['4WD' '4X2' 'AWD' 'FWD' 'RWD']\n",
      "Good?\n"
     ]
    },
    {
     "name": "stdin",
     "output_type": "stream",
     "text": [
      " y\n"
     ]
    },
    {
     "name": "stdout",
     "output_type": "stream",
     "text": [
      "Done\n"
     ]
    }
   ],
   "source": [
    "trf_cat('wheel_system')"
   ]
  },
  {
   "cell_type": "code",
   "execution_count": 234,
   "id": "7799fe16-7809-4076-8f6d-40eac3f7e86a",
   "metadata": {},
   "outputs": [
    {
     "data": {
      "text/plain": [
       "4     1507448\n",
       "9      818732\n",
       "10     386953\n",
       "13     100581\n",
       "0       65955\n",
       "3       54304\n",
       "6       51776\n",
       "5        5446\n",
       "1        4686\n",
       "8        2611\n",
       "2         897\n",
       "11        583\n",
       "7          65\n",
       "12          3\n",
       "Name: engine_cylinders, dtype: int64"
      ]
     },
     "execution_count": 234,
     "metadata": {},
     "output_type": "execute_result"
    }
   ],
   "source": [
    "used_car_data.engine_cylinders.value_counts()"
   ]
  },
  {
   "cell_type": "code",
   "execution_count": 235,
   "id": "eaf5f15c-ff64-46d1-a691-5855217e76c0",
   "metadata": {},
   "outputs": [],
   "source": [
    "used_car_data.engine_cylinders = used_car_data.engine_cylinders.replace(13, 4)"
   ]
  },
  {
   "cell_type": "code",
   "execution_count": 236,
   "id": "0851080e-88ce-4f13-98e0-70bbef987f10",
   "metadata": {},
   "outputs": [
    {
     "data": {
      "text/plain": [
       "4    2936507\n",
       "0      51083\n",
       "1       7960\n",
       "3       2966\n",
       "2       1524\n",
       "Name: cabin, dtype: int64"
      ]
     },
     "execution_count": 236,
     "metadata": {},
     "output_type": "execute_result"
    }
   ],
   "source": [
    "used_car_data.cabin.value_counts()"
   ]
  },
  {
   "cell_type": "code",
   "execution_count": 249,
   "id": "488cc3f8-f32a-4ffb-adb2-b50f9e226c1a",
   "metadata": {},
   "outputs": [
    {
     "data": {
      "text/plain": [
       "144387"
      ]
     },
     "execution_count": 249,
     "metadata": {},
     "output_type": "execute_result"
    }
   ],
   "source": [
    "sum(used_car_data.mileage.isna())"
   ]
  },
  {
   "cell_type": "code",
   "execution_count": 252,
   "id": "b401031f-f655-4602-95bc-56576a79c94d",
   "metadata": {},
   "outputs": [
    {
     "data": {
      "text/plain": [
       "8267.0"
      ]
     },
     "execution_count": 252,
     "metadata": {},
     "output_type": "execute_result"
    }
   ],
   "source": [
    "used_car_data.mileage.median()"
   ]
  },
  {
   "cell_type": "code",
   "execution_count": 253,
   "id": "ae43776d-9ed2-4a79-a2f5-cec38347d396",
   "metadata": {},
   "outputs": [],
   "source": [
    "used_car_data.mileage = used_car_data.mileage.fillna(10000)"
   ]
  },
  {
   "cell_type": "code",
   "execution_count": 254,
   "id": "8687a451-db54-41e8-8435-fd38b4f7b4cb",
   "metadata": {},
   "outputs": [
    {
     "data": {
      "text/html": [
       "<div>\n",
       "<style scoped>\n",
       "    .dataframe tbody tr th:only-of-type {\n",
       "        vertical-align: middle;\n",
       "    }\n",
       "\n",
       "    .dataframe tbody tr th {\n",
       "        vertical-align: top;\n",
       "    }\n",
       "\n",
       "    .dataframe thead th {\n",
       "        text-align: right;\n",
       "    }\n",
       "</style>\n",
       "<table border=\"1\" class=\"dataframe\">\n",
       "  <thead>\n",
       "    <tr style=\"text-align: right;\">\n",
       "      <th></th>\n",
       "      <th>price</th>\n",
       "      <th>bed</th>\n",
       "      <th>body_type</th>\n",
       "      <th>cabin</th>\n",
       "      <th>city</th>\n",
       "      <th>engine_cylinders</th>\n",
       "      <th>franchise_make</th>\n",
       "      <th>fuel_type</th>\n",
       "      <th>listing_color</th>\n",
       "      <th>transmission</th>\n",
       "      <th>...</th>\n",
       "      <th>length</th>\n",
       "      <th>maximum_seating</th>\n",
       "      <th>mileage</th>\n",
       "      <th>owner_count</th>\n",
       "      <th>seller_rating</th>\n",
       "      <th>width</th>\n",
       "      <th>wheelbase</th>\n",
       "      <th>year_listed</th>\n",
       "      <th>month_listed</th>\n",
       "      <th>model_age</th>\n",
       "    </tr>\n",
       "  </thead>\n",
       "  <tbody>\n",
       "    <tr>\n",
       "      <th>0</th>\n",
       "      <td>23141.0</td>\n",
       "      <td>3</td>\n",
       "      <td>5</td>\n",
       "      <td>4</td>\n",
       "      <td>55</td>\n",
       "      <td>4</td>\n",
       "      <td>21</td>\n",
       "      <td>5</td>\n",
       "      <td>14</td>\n",
       "      <td>0</td>\n",
       "      <td>...</td>\n",
       "      <td>166.6</td>\n",
       "      <td>5.0</td>\n",
       "      <td>7.0</td>\n",
       "      <td>1.0</td>\n",
       "      <td>2.800000</td>\n",
       "      <td>79.6</td>\n",
       "      <td>101.2</td>\n",
       "      <td>2019</td>\n",
       "      <td>4</td>\n",
       "      <td>0</td>\n",
       "    </tr>\n",
       "    <tr>\n",
       "      <th>1</th>\n",
       "      <td>46500.0</td>\n",
       "      <td>3</td>\n",
       "      <td>5</td>\n",
       "      <td>4</td>\n",
       "      <td>55</td>\n",
       "      <td>4</td>\n",
       "      <td>24</td>\n",
       "      <td>5</td>\n",
       "      <td>0</td>\n",
       "      <td>0</td>\n",
       "      <td>...</td>\n",
       "      <td>181.0</td>\n",
       "      <td>7.0</td>\n",
       "      <td>8.0</td>\n",
       "      <td>1.0</td>\n",
       "      <td>3.000000</td>\n",
       "      <td>85.6</td>\n",
       "      <td>107.9</td>\n",
       "      <td>2020</td>\n",
       "      <td>2</td>\n",
       "      <td>0</td>\n",
       "    </tr>\n",
       "    <tr>\n",
       "      <th>2</th>\n",
       "      <td>46995.0</td>\n",
       "      <td>3</td>\n",
       "      <td>6</td>\n",
       "      <td>4</td>\n",
       "      <td>55</td>\n",
       "      <td>0</td>\n",
       "      <td>11</td>\n",
       "      <td>5</td>\n",
       "      <td>12</td>\n",
       "      <td>3</td>\n",
       "      <td>...</td>\n",
       "      <td>180.9</td>\n",
       "      <td>5.0</td>\n",
       "      <td>10000.0</td>\n",
       "      <td>3.0</td>\n",
       "      <td>4.000000</td>\n",
       "      <td>78.9</td>\n",
       "      <td>104.3</td>\n",
       "      <td>2017</td>\n",
       "      <td>4</td>\n",
       "      <td>1</td>\n",
       "    </tr>\n",
       "    <tr>\n",
       "      <th>3</th>\n",
       "      <td>67430.0</td>\n",
       "      <td>3</td>\n",
       "      <td>5</td>\n",
       "      <td>4</td>\n",
       "      <td>55</td>\n",
       "      <td>9</td>\n",
       "      <td>24</td>\n",
       "      <td>5</td>\n",
       "      <td>4</td>\n",
       "      <td>0</td>\n",
       "      <td>...</td>\n",
       "      <td>195.1</td>\n",
       "      <td>7.0</td>\n",
       "      <td>11.0</td>\n",
       "      <td>1.0</td>\n",
       "      <td>3.000000</td>\n",
       "      <td>87.4</td>\n",
       "      <td>115.0</td>\n",
       "      <td>2020</td>\n",
       "      <td>2</td>\n",
       "      <td>0</td>\n",
       "    </tr>\n",
       "    <tr>\n",
       "      <th>4</th>\n",
       "      <td>48880.0</td>\n",
       "      <td>3</td>\n",
       "      <td>5</td>\n",
       "      <td>4</td>\n",
       "      <td>55</td>\n",
       "      <td>4</td>\n",
       "      <td>24</td>\n",
       "      <td>5</td>\n",
       "      <td>0</td>\n",
       "      <td>0</td>\n",
       "      <td>...</td>\n",
       "      <td>181.0</td>\n",
       "      <td>7.0</td>\n",
       "      <td>7.0</td>\n",
       "      <td>1.0</td>\n",
       "      <td>3.000000</td>\n",
       "      <td>85.6</td>\n",
       "      <td>107.9</td>\n",
       "      <td>2020</td>\n",
       "      <td>4</td>\n",
       "      <td>0</td>\n",
       "    </tr>\n",
       "    <tr>\n",
       "      <th>...</th>\n",
       "      <td>...</td>\n",
       "      <td>...</td>\n",
       "      <td>...</td>\n",
       "      <td>...</td>\n",
       "      <td>...</td>\n",
       "      <td>...</td>\n",
       "      <td>...</td>\n",
       "      <td>...</td>\n",
       "      <td>...</td>\n",
       "      <td>...</td>\n",
       "      <td>...</td>\n",
       "      <td>...</td>\n",
       "      <td>...</td>\n",
       "      <td>...</td>\n",
       "      <td>...</td>\n",
       "      <td>...</td>\n",
       "      <td>...</td>\n",
       "      <td>...</td>\n",
       "      <td>...</td>\n",
       "      <td>...</td>\n",
       "      <td>...</td>\n",
       "    </tr>\n",
       "    <tr>\n",
       "      <th>3000035</th>\n",
       "      <td>17998.0</td>\n",
       "      <td>3</td>\n",
       "      <td>5</td>\n",
       "      <td>4</td>\n",
       "      <td>31</td>\n",
       "      <td>4</td>\n",
       "      <td>48</td>\n",
       "      <td>5</td>\n",
       "      <td>10</td>\n",
       "      <td>0</td>\n",
       "      <td>...</td>\n",
       "      <td>183.1</td>\n",
       "      <td>5.0</td>\n",
       "      <td>41897.0</td>\n",
       "      <td>1.0</td>\n",
       "      <td>4.272727</td>\n",
       "      <td>72.6</td>\n",
       "      <td>107.3</td>\n",
       "      <td>2020</td>\n",
       "      <td>8</td>\n",
       "      <td>2</td>\n",
       "    </tr>\n",
       "    <tr>\n",
       "      <th>3000036</th>\n",
       "      <td>36490.0</td>\n",
       "      <td>3</td>\n",
       "      <td>5</td>\n",
       "      <td>4</td>\n",
       "      <td>31</td>\n",
       "      <td>9</td>\n",
       "      <td>8</td>\n",
       "      <td>5</td>\n",
       "      <td>0</td>\n",
       "      <td>0</td>\n",
       "      <td>...</td>\n",
       "      <td>204.3</td>\n",
       "      <td>8.0</td>\n",
       "      <td>5.0</td>\n",
       "      <td>1.0</td>\n",
       "      <td>4.533333</td>\n",
       "      <td>78.6</td>\n",
       "      <td>120.9</td>\n",
       "      <td>2020</td>\n",
       "      <td>3</td>\n",
       "      <td>0</td>\n",
       "    </tr>\n",
       "    <tr>\n",
       "      <th>3000037</th>\n",
       "      <td>12990.0</td>\n",
       "      <td>3</td>\n",
       "      <td>6</td>\n",
       "      <td>4</td>\n",
       "      <td>31</td>\n",
       "      <td>4</td>\n",
       "      <td>21</td>\n",
       "      <td>5</td>\n",
       "      <td>4</td>\n",
       "      <td>0</td>\n",
       "      <td>...</td>\n",
       "      <td>191.7</td>\n",
       "      <td>5.0</td>\n",
       "      <td>57992.0</td>\n",
       "      <td>2.0</td>\n",
       "      <td>4.142857</td>\n",
       "      <td>83.5</td>\n",
       "      <td>112.2</td>\n",
       "      <td>2020</td>\n",
       "      <td>6</td>\n",
       "      <td>4</td>\n",
       "    </tr>\n",
       "    <tr>\n",
       "      <th>3000038</th>\n",
       "      <td>26998.0</td>\n",
       "      <td>3</td>\n",
       "      <td>6</td>\n",
       "      <td>4</td>\n",
       "      <td>31</td>\n",
       "      <td>4</td>\n",
       "      <td>48</td>\n",
       "      <td>2</td>\n",
       "      <td>5</td>\n",
       "      <td>0</td>\n",
       "      <td>...</td>\n",
       "      <td>183.9</td>\n",
       "      <td>5.0</td>\n",
       "      <td>27857.0</td>\n",
       "      <td>1.0</td>\n",
       "      <td>4.272727</td>\n",
       "      <td>81.7</td>\n",
       "      <td>111.6</td>\n",
       "      <td>2020</td>\n",
       "      <td>9</td>\n",
       "      <td>3</td>\n",
       "    </tr>\n",
       "    <tr>\n",
       "      <th>3000039</th>\n",
       "      <td>19900.0</td>\n",
       "      <td>3</td>\n",
       "      <td>5</td>\n",
       "      <td>4</td>\n",
       "      <td>31</td>\n",
       "      <td>4</td>\n",
       "      <td>34</td>\n",
       "      <td>5</td>\n",
       "      <td>10</td>\n",
       "      <td>0</td>\n",
       "      <td>...</td>\n",
       "      <td>184.5</td>\n",
       "      <td>7.0</td>\n",
       "      <td>22600.0</td>\n",
       "      <td>1.0</td>\n",
       "      <td>4.333333</td>\n",
       "      <td>72.4</td>\n",
       "      <td>106.5</td>\n",
       "      <td>2020</td>\n",
       "      <td>8</td>\n",
       "      <td>3</td>\n",
       "    </tr>\n",
       "  </tbody>\n",
       "</table>\n",
       "<p>3000040 rows × 39 columns</p>\n",
       "</div>"
      ],
      "text/plain": [
       "           price  bed  body_type  cabin  city  engine_cylinders  \\\n",
       "0        23141.0    3          5      4    55                 4   \n",
       "1        46500.0    3          5      4    55                 4   \n",
       "2        46995.0    3          6      4    55                 0   \n",
       "3        67430.0    3          5      4    55                 9   \n",
       "4        48880.0    3          5      4    55                 4   \n",
       "...          ...  ...        ...    ...   ...               ...   \n",
       "3000035  17998.0    3          5      4    31                 4   \n",
       "3000036  36490.0    3          5      4    31                 9   \n",
       "3000037  12990.0    3          6      4    31                 4   \n",
       "3000038  26998.0    3          6      4    31                 4   \n",
       "3000039  19900.0    3          5      4    31                 4   \n",
       "\n",
       "         franchise_make  fuel_type  listing_color  transmission  ...  length  \\\n",
       "0                    21          5             14             0  ...   166.6   \n",
       "1                    24          5              0             0  ...   181.0   \n",
       "2                    11          5             12             3  ...   180.9   \n",
       "3                    24          5              4             0  ...   195.1   \n",
       "4                    24          5              0             0  ...   181.0   \n",
       "...                 ...        ...            ...           ...  ...     ...   \n",
       "3000035              48          5             10             0  ...   183.1   \n",
       "3000036               8          5              0             0  ...   204.3   \n",
       "3000037              21          5              4             0  ...   191.7   \n",
       "3000038              48          2              5             0  ...   183.9   \n",
       "3000039              34          5             10             0  ...   184.5   \n",
       "\n",
       "         maximum_seating  mileage  owner_count  seller_rating  width  \\\n",
       "0                    5.0      7.0          1.0       2.800000   79.6   \n",
       "1                    7.0      8.0          1.0       3.000000   85.6   \n",
       "2                    5.0  10000.0          3.0       4.000000   78.9   \n",
       "3                    7.0     11.0          1.0       3.000000   87.4   \n",
       "4                    7.0      7.0          1.0       3.000000   85.6   \n",
       "...                  ...      ...          ...            ...    ...   \n",
       "3000035              5.0  41897.0          1.0       4.272727   72.6   \n",
       "3000036              8.0      5.0          1.0       4.533333   78.6   \n",
       "3000037              5.0  57992.0          2.0       4.142857   83.5   \n",
       "3000038              5.0  27857.0          1.0       4.272727   81.7   \n",
       "3000039              7.0  22600.0          1.0       4.333333   72.4   \n",
       "\n",
       "         wheelbase  year_listed  month_listed  model_age  \n",
       "0            101.2         2019             4          0  \n",
       "1            107.9         2020             2          0  \n",
       "2            104.3         2017             4          1  \n",
       "3            115.0         2020             2          0  \n",
       "4            107.9         2020             4          0  \n",
       "...            ...          ...           ...        ...  \n",
       "3000035      107.3         2020             8          2  \n",
       "3000036      120.9         2020             3          0  \n",
       "3000037      112.2         2020             6          4  \n",
       "3000038      111.6         2020             9          3  \n",
       "3000039      106.5         2020             8          3  \n",
       "\n",
       "[3000040 rows x 39 columns]"
      ]
     },
     "execution_count": 254,
     "metadata": {},
     "output_type": "execute_result"
    }
   ],
   "source": [
    "processed_data = pd.DataFrame(used_car_data[\n",
    "    ['price',\n",
    "     'bed', 'body_type', 'cabin', 'city', 'engine_cylinders', 'franchise_make', 'fuel_type', 'listing_color', 'transmission', 'wheel_system',\n",
    "     'fleet', 'frame_damaged', 'franchise_dealer', 'has_accidents', 'isCab', 'is_cpo', 'is_new', 'salvage',\n",
    "     'back_legroom', 'bed_length', 'city_fuel_economy', 'daysonmarket', 'engine_displacement', 'front_legroom', 'fuel_tank_volume', 'height', 'highway_fuel_economy', 'horsepower', 'length', 'maximum_seating', 'mileage', 'owner_count', 'seller_rating', 'width', 'wheelbase']\n",
    "])\n",
    "processed_data['year_listed'] = year_listed\n",
    "processed_data['month_listed'] = month_listed\n",
    "processed_data['model_age'] = model_age\n",
    "processed_data"
   ]
  },
  {
   "cell_type": "code",
   "execution_count": 255,
   "id": "59989aec-243a-487b-882f-e7974ec8f955",
   "metadata": {},
   "outputs": [],
   "source": [
    "processed_data.to_parquet(\"processed_ucd.parquet\", compression=None)"
   ]
  },
  {
   "cell_type": "code",
   "execution_count": 256,
   "id": "e5ff3811-9adc-4069-8bce-9f06e2cbc36d",
   "metadata": {},
   "outputs": [],
   "source": [
    "processed_data.to_csv(\"processed_ucd.csv\")"
   ]
  },
  {
   "cell_type": "code",
   "execution_count": null,
   "id": "f0e9231f-d14c-49ea-b800-a1457af60bb4",
   "metadata": {},
   "outputs": [],
   "source": []
  }
 ],
 "metadata": {
  "kernelspec": {
   "display_name": "Python 3 (ipykernel)",
   "language": "python",
   "name": "python3"
  },
  "language_info": {
   "codemirror_mode": {
    "name": "ipython",
    "version": 3
   },
   "file_extension": ".py",
   "mimetype": "text/x-python",
   "name": "python",
   "nbconvert_exporter": "python",
   "pygments_lexer": "ipython3",
   "version": "3.9.10"
  }
 },
 "nbformat": 4,
 "nbformat_minor": 5
}
