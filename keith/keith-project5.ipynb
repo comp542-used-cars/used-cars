{
 "cells": [
  {
   "cell_type": "code",
   "execution_count": 1,
   "metadata": {},
   "outputs": [],
   "source": [
    "import pandas as pd\n",
    "import re\n",
    "import numpy as np"
   ]
  },
  {
   "cell_type": "code",
   "execution_count": 2,
   "metadata": {},
   "outputs": [],
   "source": [
    "df_vehicles = pd.read_csv(\"C:\\\\Users\\\\keith\\\\My Drive\\\\School\\\\CSUN\\\\COMP542\\\\Projects\\\\Data\\\\Raw\\\\vehicles.csv\",low_memory=False)\n",
    "df_usedcars = pd.read_csv(\"C:\\\\Users\\\\keith\\\\My Drive\\\\School\\\\CSUN\\\\COMP542\\\\Projects\\\\Data\\\\Raw\\\\used_cars_data.csv\",low_memory=False)"
   ]
  },
  {
   "cell_type": "code",
   "execution_count": 8,
   "metadata": {},
   "outputs": [],
   "source": [
    "df_clean_usedcars = pd.DataFrame()\n",
    "df_clean_usedcars['price'] = df_usedcars['price']"
   ]
  },
  {
   "cell_type": "code",
   "execution_count": 9,
   "metadata": {},
   "outputs": [],
   "source": [
    "#Color Cleaning\n",
    "color_list = ['Red','Orange','Yellow','Green','Blue','Purple','Pink','Brown','Black','Grey','Gray','White','Violet','Silver']\n",
    "df_clean_usedcars['exterior_color'] = df_usedcars['exterior_color'].dropna()\n",
    "for color in color_list:\n",
    "    df_clean_usedcars['exterior_color'] = df_clean_usedcars['exterior_color'].replace(\"(?i).*\"+color+\".*\", color,regex=True)\n",
    "    \n",
    "color_rename_dict = {\n",
    "    'Grey' : 'Gray',\n",
    "    'Stone' : 'Gray',\n",
    "    'Blaco' : 'White',\n",
    "    'Metal' : 'Silver',\n",
    "    'Granite' : 'Gray',\n",
    "    'Ivory' : 'White',\n",
    "    'Gris' : 'Gray',\n",
    "    'Pepper' : 'Black',\n",
    "    'Graphite' : 'Gray',\n",
    "    'Azul' : 'Blue',\n",
    "    'sand' : 'Beige',\n",
    "    'ORANGR' : 'Orange',\n",
    "    'Blu' : 'Blue',\n",
    "    'Crimson' : 'Red',\n",
    "    'Aruba' : 'Red',\n",
    "    'Sangria' : 'Red',\n",
    "    'Mocha' : 'Brown',\n",
    "    'Modern S' : 'Silver',\n",
    "    'Firesand' : 'Red',\n",
    "    'Wh' : 'White',\n",
    "    'Negro' : 'Black',\n",
    "    'Blanco' : 'White',\n",
    "    'tan' : 'Beige',\n",
    "    'Commando' : 'Green',\n",
    "    'Pearl' : 'White',\n",
    "    'Charcoal' : 'Black',\n",
    "    'Champagne' : 'Yellow',\n",
    "    'Turquoise' : 'Green',\n",
    "    'Hell' : 'Red',\n",
    "    'Garnet' : 'Black',\n",
    "    'Midnight' : 'Black',\n",
    "    'Platinum' : 'White',\n",
    "    'Sun' : 'Yellow',\n",
    "    'Glod' : 'Yellow',\n",
    "    'Cosmic' : 'White',\n",
    "    'Burgandy' : 'Red',\n",
    "    'Peral' : 'White',\n",
    "    'Pera' : 'White',\n",
    "    'Moss' : 'Green',\n",
    "    'Cerulean' : 'Blue',\n",
    "    'Dust' : 'Brown',\n",
    "    'Copper' : 'Brown',\n",
    "    'Frostbite' : 'White',\n",
    "    'Stick' : 'Brown',\n",
    "    'burg' : 'Red',\n",
    "    'Gy' : 'Green',\n",
    "    'Rosso' : 'Red',\n",
    "    'gold' : 'Gold',\n",
    "    'Powder' : 'White',\n",
    "    'Slate' : 'Black',\n",
    "    'Cherry' : 'Red',\n",
    "    'Maroon' : 'Red',\n",
    "    'Rock' : 'Gray',\n",
    "    'Shadow' : 'Black',\n",
    "    'Sea' : 'Blue',\n",
    "    'Wind' : 'White',\n",
    "    'Pewter' : 'Gray',\n",
    "    'Magnetic' : 'Gray',\n",
    "    'BLA' : 'Black',\n",
    "}\n",
    "\n",
    "#for key,value in color_rename_dict.items():\n",
    "#    df_clean_usedcars['exterior_color'] = df_clean_usedcars['exterior_color'].replace(\"(?i).*\"+key+\".*\", value,regex=True)\n",
    "#[print(x) for x in df_clean_usedcars['exterior_color'].unique()]\n",
    "\n",
    "df_clean_usedcars['color_len']= df_clean_usedcars['exterior_color'].str.len()\n",
    "df_clean_usedcars['color_len_qcut']=pd.qcut(df_clean_usedcars['color_len'], q=10,duplicates='drop')\n",
    "df_clean_usedcars['color_len_normalized']=df_clean_usedcars['color_len']/df_clean_usedcars['color_len'].max()\n",
    "df_clean_usedcars['color_len_normalized_qcut']=pd.qcut(df_clean_usedcars['color_len_normalized'], q=10,duplicates='drop')\n",
    "\n",
    "#pd.option_context('display.max_rows', None, 'display.max_columns', None)\n",
    "#df_clean_usedcars['exterior_color'].unique()\n"
   ]
  },
  {
   "cell_type": "code",
   "execution_count": 10,
   "metadata": {},
   "outputs": [],
   "source": [
    "#Engine Cylinders Cleaning\n",
    "df_clean_usedcars['engine_cylinders'] = df_usedcars['engine_cylinders'].dropna()\n",
    "df_clean_usedcars['engine_cylinders'] = pd.to_numeric(df_clean_usedcars['engine_cylinders'].replace(\"[^0-9]\", \"\",regex=True).replace(r'^\\s*$',\"NULL\",regex=True))\n",
    "df_clean_usedcars['engine_cylinders'].dropna(inplace=True)\n",
    "df_clean_usedcars['engine_cylinders'].unique()\n",
    "df_clean_usedcars['engine_cylinders_qcut']=pd.qcut(df_clean_usedcars['engine_cylinders'], q=10,duplicates='drop')\n",
    "df_clean_usedcars['engine_cylinders_normalized']=df_clean_usedcars['engine_cylinders']/df_clean_usedcars['engine_cylinders'].max()\n",
    "df_clean_usedcars['engine_cylinders_normalized_qcut']=pd.qcut(df_clean_usedcars['engine_cylinders_normalized'], q=10,duplicates='drop')"
   ]
  },
  {
   "cell_type": "code",
   "execution_count": 11,
   "metadata": {},
   "outputs": [],
   "source": [
    "#Engine Displacement Cleaning\n",
    "df_clean_usedcars['engine_displacement'] = df_usedcars['engine_displacement'].dropna()\n",
    "df_clean_usedcars['engine_displacement'] = pd.to_numeric(df_clean_usedcars['engine_displacement'].replace(\"[^0-9]\", \"\",regex=True).replace(r'^\\s*$',\"NULL\",regex=True))\n",
    "df_clean_usedcars['engine_displacement'].unique()\n",
    "df_clean_usedcars['engine_displacement_qcut']=pd.qcut(df_clean_usedcars['engine_displacement'], q=10,duplicates='drop')\n",
    "df_clean_usedcars['engine_displacement_normalized']=df_clean_usedcars['engine_displacement']/df_clean_usedcars['engine_displacement'].max()\n",
    "df_clean_usedcars['engine_displacement_normalized_qcut']=pd.qcut(df_clean_usedcars['engine_displacement_normalized'], q=10,duplicates='drop')"
   ]
  },
  {
   "cell_type": "code",
   "execution_count": 12,
   "metadata": {},
   "outputs": [
    {
     "name": "stderr",
     "output_type": "stream",
     "text": [
      "C:\\Users\\keith\\AppData\\Local\\Temp\\ipykernel_39592\\4001081740.py:6: FutureWarning: The default value of numeric_only in DataFrame.skew is deprecated. In a future version, it will default to False. In addition, specifying 'numeric_only=None' is deprecated. Select only valid columns or specify the value of numeric_only to silence this warning.\n",
      "  df_clean_usedcars.skew().to_csv(f\"{folder}/{name}_skew.csv\")\n"
     ]
    }
   ],
   "source": [
    "#Output Data\n",
    "import io\n",
    "folder = f\"data/tables\"\n",
    "name = \"clean_usedcars\"\n",
    "df_clean_usedcars.describe(include='all').to_csv(f\"{folder}/{name}_describe.csv\")\n",
    "df_clean_usedcars.corr(method='pearson',numeric_only=True).to_csv(f\"{folder}/{name}_correlation.csv\")\n",
    "df_clean_usedcars.skew().to_csv(f\"{folder}/{name}_skew.csv\")\n",
    "buffer = io.StringIO()\n",
    "df_clean_usedcars.info(verbose=True,buf=buffer)\n",
    "s = buffer.getvalue()\n",
    "with open(f\"{folder}/{name}_info.csv\",\"w+\") as f:\n",
    "    f.write(s)"
   ]
  }
 ],
 "metadata": {
  "kernelspec": {
   "display_name": "Python 3.10.7 64-bit",
   "language": "python",
   "name": "python3"
  },
  "language_info": {
   "codemirror_mode": {
    "name": "ipython",
    "version": 3
   },
   "file_extension": ".py",
   "mimetype": "text/x-python",
   "name": "python",
   "nbconvert_exporter": "python",
   "pygments_lexer": "ipython3",
   "version": "3.10.7"
  },
  "orig_nbformat": 4,
  "vscode": {
   "interpreter": {
    "hash": "df6a252482803b1d109f19f4df28a1063ab531f208a3b33fdb2a1a404ecaf1ea"
   }
  }
 },
 "nbformat": 4,
 "nbformat_minor": 2
}
